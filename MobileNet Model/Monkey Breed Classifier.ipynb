{
 "cells": [
  {
   "cell_type": "markdown",
   "id": "b7162c55",
   "metadata": {},
   "source": [
    "# Monkey Breed classifier using Mobilenet"
   ]
  },
  {
   "cell_type": "markdown",
   "id": "94ca013e",
   "metadata": {},
   "source": [
    "### Loading the Mobilenet model"
   ]
  },
  {
   "cell_type": "code",
   "execution_count": 2,
   "id": "f040102a",
   "metadata": {},
   "outputs": [
    {
     "name": "stdout",
     "output_type": "stream",
     "text": [
      "0 InputLayer False\n",
      "1 Conv2D False\n",
      "2 BatchNormalization False\n",
      "3 ReLU False\n",
      "4 DepthwiseConv2D False\n",
      "5 BatchNormalization False\n",
      "6 ReLU False\n",
      "7 Conv2D False\n",
      "8 BatchNormalization False\n",
      "9 ReLU False\n",
      "10 ZeroPadding2D False\n",
      "11 DepthwiseConv2D False\n",
      "12 BatchNormalization False\n",
      "13 ReLU False\n",
      "14 Conv2D False\n",
      "15 BatchNormalization False\n",
      "16 ReLU False\n",
      "17 DepthwiseConv2D False\n",
      "18 BatchNormalization False\n",
      "19 ReLU False\n",
      "20 Conv2D False\n",
      "21 BatchNormalization False\n",
      "22 ReLU False\n",
      "23 ZeroPadding2D False\n",
      "24 DepthwiseConv2D False\n",
      "25 BatchNormalization False\n",
      "26 ReLU False\n",
      "27 Conv2D False\n",
      "28 BatchNormalization False\n",
      "29 ReLU False\n",
      "30 DepthwiseConv2D False\n",
      "31 BatchNormalization False\n",
      "32 ReLU False\n",
      "33 Conv2D False\n",
      "34 BatchNormalization False\n",
      "35 ReLU False\n",
      "36 ZeroPadding2D False\n",
      "37 DepthwiseConv2D False\n",
      "38 BatchNormalization False\n",
      "39 ReLU False\n",
      "40 Conv2D False\n",
      "41 BatchNormalization False\n",
      "42 ReLU False\n",
      "43 DepthwiseConv2D False\n",
      "44 BatchNormalization False\n",
      "45 ReLU False\n",
      "46 Conv2D False\n",
      "47 BatchNormalization False\n",
      "48 ReLU False\n",
      "49 DepthwiseConv2D False\n",
      "50 BatchNormalization False\n",
      "51 ReLU False\n",
      "52 Conv2D False\n",
      "53 BatchNormalization False\n",
      "54 ReLU False\n",
      "55 DepthwiseConv2D False\n",
      "56 BatchNormalization False\n",
      "57 ReLU False\n",
      "58 Conv2D False\n",
      "59 BatchNormalization False\n",
      "60 ReLU False\n",
      "61 DepthwiseConv2D False\n",
      "62 BatchNormalization False\n",
      "63 ReLU False\n",
      "64 Conv2D False\n",
      "65 BatchNormalization False\n",
      "66 ReLU False\n",
      "67 DepthwiseConv2D False\n",
      "68 BatchNormalization False\n",
      "69 ReLU False\n",
      "70 Conv2D False\n",
      "71 BatchNormalization False\n",
      "72 ReLU False\n",
      "73 ZeroPadding2D False\n",
      "74 DepthwiseConv2D False\n",
      "75 BatchNormalization False\n",
      "76 ReLU False\n",
      "77 Conv2D False\n",
      "78 BatchNormalization False\n",
      "79 ReLU False\n",
      "80 DepthwiseConv2D False\n",
      "81 BatchNormalization False\n",
      "82 ReLU False\n",
      "83 Conv2D False\n",
      "84 BatchNormalization False\n",
      "85 ReLU False\n"
     ]
    }
   ],
   "source": [
    "from tensorflow.keras.applications import MobileNet\n",
    "\n",
    "img_rows = 224\n",
    "img_cols = 224\n",
    "\n",
    "#Re-load the MobileNet model without top 4 layers\n",
    "\n",
    "MobileNet = MobileNet(weights = \"imagenet\",\n",
    "                      include_top = False,\n",
    "                      input_shape = (img_rows, img_cols, 3))\n",
    "\n",
    "#Here freeze the last 4 layers\n",
    "#Layers are set to trainable as True by default\n",
    "\n",
    "for layer in MobileNet.layers:\n",
    "    layer.trainable = False\n",
    "    \n",
    "#print the trainable Layers\n",
    "for i, layer in enumerate(MobileNet.layers):\n",
    "    print(str(i) + \" \"+ layer.__class__.__name__, layer.trainable)\n"
   ]
  },
  {
   "cell_type": "markdown",
   "id": "92d33dcc",
   "metadata": {},
   "source": [
    "# Create a function that return the FC Head"
   ]
  },
  {
   "cell_type": "code",
   "execution_count": 3,
   "id": "fd30bcde",
   "metadata": {},
   "outputs": [],
   "source": [
    "def addTopmodel(bottom_model, num_classes):\n",
    "    \n",
    "    top_model = bottom_model.output\n",
    "    top_model = GlobalAveragePooling2D()(top_model)\n",
    "    top_model = Dense(1024,activation = \"relu\")(top_model)\n",
    "    top_model = Dense(1024,activation = \"relu\")(top_model)\n",
    "    top_model = Dense(512,activation = \"relu\")(top_model)\n",
    "    top_model = Dense(num_classes,activation = \"softmax\")(top_model)\n",
    "    \n",
    "    return top_model"
   ]
  },
  {
   "cell_type": "markdown",
   "id": "dee4baf2",
   "metadata": {},
   "source": [
    "# Add FC Head onto MobileNet model"
   ]
  },
  {
   "cell_type": "code",
   "execution_count": 4,
   "id": "3f7bafc5",
   "metadata": {},
   "outputs": [],
   "source": [
    "import tensorflow \n",
    "from tensorflow.keras.models import Sequential\n",
    "from tensorflow.keras.layers import Conv2D, MaxPooling2D, GlobalAveragePooling2D, ZeroPadding2D\n",
    "from tensorflow.keras.layers import Dense, Activation, Flatten, Dropout\n",
    "from tensorflow.keras.layers import BatchNormalization\n",
    "from tensorflow.keras.models import Model\n"
   ]
  },
  {
   "cell_type": "code",
   "execution_count": 5,
   "id": "f1bd8b40",
   "metadata": {},
   "outputs": [
    {
     "name": "stdout",
     "output_type": "stream",
     "text": [
      "Model: \"model\"\n",
      "_________________________________________________________________\n",
      "Layer (type)                 Output Shape              Param #   \n",
      "=================================================================\n",
      "input_2 (InputLayer)         [(None, 224, 224, 3)]     0         \n",
      "_________________________________________________________________\n",
      "conv1 (Conv2D)               (None, 112, 112, 32)      864       \n",
      "_________________________________________________________________\n",
      "conv1_bn (BatchNormalization (None, 112, 112, 32)      128       \n",
      "_________________________________________________________________\n",
      "conv1_relu (ReLU)            (None, 112, 112, 32)      0         \n",
      "_________________________________________________________________\n",
      "conv_dw_1 (DepthwiseConv2D)  (None, 112, 112, 32)      288       \n",
      "_________________________________________________________________\n",
      "conv_dw_1_bn (BatchNormaliza (None, 112, 112, 32)      128       \n",
      "_________________________________________________________________\n",
      "conv_dw_1_relu (ReLU)        (None, 112, 112, 32)      0         \n",
      "_________________________________________________________________\n",
      "conv_pw_1 (Conv2D)           (None, 112, 112, 64)      2048      \n",
      "_________________________________________________________________\n",
      "conv_pw_1_bn (BatchNormaliza (None, 112, 112, 64)      256       \n",
      "_________________________________________________________________\n",
      "conv_pw_1_relu (ReLU)        (None, 112, 112, 64)      0         \n",
      "_________________________________________________________________\n",
      "conv_pad_2 (ZeroPadding2D)   (None, 113, 113, 64)      0         \n",
      "_________________________________________________________________\n",
      "conv_dw_2 (DepthwiseConv2D)  (None, 56, 56, 64)        576       \n",
      "_________________________________________________________________\n",
      "conv_dw_2_bn (BatchNormaliza (None, 56, 56, 64)        256       \n",
      "_________________________________________________________________\n",
      "conv_dw_2_relu (ReLU)        (None, 56, 56, 64)        0         \n",
      "_________________________________________________________________\n",
      "conv_pw_2 (Conv2D)           (None, 56, 56, 128)       8192      \n",
      "_________________________________________________________________\n",
      "conv_pw_2_bn (BatchNormaliza (None, 56, 56, 128)       512       \n",
      "_________________________________________________________________\n",
      "conv_pw_2_relu (ReLU)        (None, 56, 56, 128)       0         \n",
      "_________________________________________________________________\n",
      "conv_dw_3 (DepthwiseConv2D)  (None, 56, 56, 128)       1152      \n",
      "_________________________________________________________________\n",
      "conv_dw_3_bn (BatchNormaliza (None, 56, 56, 128)       512       \n",
      "_________________________________________________________________\n",
      "conv_dw_3_relu (ReLU)        (None, 56, 56, 128)       0         \n",
      "_________________________________________________________________\n",
      "conv_pw_3 (Conv2D)           (None, 56, 56, 128)       16384     \n",
      "_________________________________________________________________\n",
      "conv_pw_3_bn (BatchNormaliza (None, 56, 56, 128)       512       \n",
      "_________________________________________________________________\n",
      "conv_pw_3_relu (ReLU)        (None, 56, 56, 128)       0         \n",
      "_________________________________________________________________\n",
      "conv_pad_4 (ZeroPadding2D)   (None, 57, 57, 128)       0         \n",
      "_________________________________________________________________\n",
      "conv_dw_4 (DepthwiseConv2D)  (None, 28, 28, 128)       1152      \n",
      "_________________________________________________________________\n",
      "conv_dw_4_bn (BatchNormaliza (None, 28, 28, 128)       512       \n",
      "_________________________________________________________________\n",
      "conv_dw_4_relu (ReLU)        (None, 28, 28, 128)       0         \n",
      "_________________________________________________________________\n",
      "conv_pw_4 (Conv2D)           (None, 28, 28, 256)       32768     \n",
      "_________________________________________________________________\n",
      "conv_pw_4_bn (BatchNormaliza (None, 28, 28, 256)       1024      \n",
      "_________________________________________________________________\n",
      "conv_pw_4_relu (ReLU)        (None, 28, 28, 256)       0         \n",
      "_________________________________________________________________\n",
      "conv_dw_5 (DepthwiseConv2D)  (None, 28, 28, 256)       2304      \n",
      "_________________________________________________________________\n",
      "conv_dw_5_bn (BatchNormaliza (None, 28, 28, 256)       1024      \n",
      "_________________________________________________________________\n",
      "conv_dw_5_relu (ReLU)        (None, 28, 28, 256)       0         \n",
      "_________________________________________________________________\n",
      "conv_pw_5 (Conv2D)           (None, 28, 28, 256)       65536     \n",
      "_________________________________________________________________\n",
      "conv_pw_5_bn (BatchNormaliza (None, 28, 28, 256)       1024      \n",
      "_________________________________________________________________\n",
      "conv_pw_5_relu (ReLU)        (None, 28, 28, 256)       0         \n",
      "_________________________________________________________________\n",
      "conv_pad_6 (ZeroPadding2D)   (None, 29, 29, 256)       0         \n",
      "_________________________________________________________________\n",
      "conv_dw_6 (DepthwiseConv2D)  (None, 14, 14, 256)       2304      \n",
      "_________________________________________________________________\n",
      "conv_dw_6_bn (BatchNormaliza (None, 14, 14, 256)       1024      \n",
      "_________________________________________________________________\n",
      "conv_dw_6_relu (ReLU)        (None, 14, 14, 256)       0         \n",
      "_________________________________________________________________\n",
      "conv_pw_6 (Conv2D)           (None, 14, 14, 512)       131072    \n",
      "_________________________________________________________________\n",
      "conv_pw_6_bn (BatchNormaliza (None, 14, 14, 512)       2048      \n",
      "_________________________________________________________________\n",
      "conv_pw_6_relu (ReLU)        (None, 14, 14, 512)       0         \n",
      "_________________________________________________________________\n",
      "conv_dw_7 (DepthwiseConv2D)  (None, 14, 14, 512)       4608      \n",
      "_________________________________________________________________\n",
      "conv_dw_7_bn (BatchNormaliza (None, 14, 14, 512)       2048      \n",
      "_________________________________________________________________\n",
      "conv_dw_7_relu (ReLU)        (None, 14, 14, 512)       0         \n",
      "_________________________________________________________________\n",
      "conv_pw_7 (Conv2D)           (None, 14, 14, 512)       262144    \n",
      "_________________________________________________________________\n",
      "conv_pw_7_bn (BatchNormaliza (None, 14, 14, 512)       2048      \n",
      "_________________________________________________________________\n",
      "conv_pw_7_relu (ReLU)        (None, 14, 14, 512)       0         \n",
      "_________________________________________________________________\n",
      "conv_dw_8 (DepthwiseConv2D)  (None, 14, 14, 512)       4608      \n",
      "_________________________________________________________________\n",
      "conv_dw_8_bn (BatchNormaliza (None, 14, 14, 512)       2048      \n",
      "_________________________________________________________________\n",
      "conv_dw_8_relu (ReLU)        (None, 14, 14, 512)       0         \n",
      "_________________________________________________________________\n",
      "conv_pw_8 (Conv2D)           (None, 14, 14, 512)       262144    \n",
      "_________________________________________________________________\n",
      "conv_pw_8_bn (BatchNormaliza (None, 14, 14, 512)       2048      \n",
      "_________________________________________________________________\n",
      "conv_pw_8_relu (ReLU)        (None, 14, 14, 512)       0         \n",
      "_________________________________________________________________\n",
      "conv_dw_9 (DepthwiseConv2D)  (None, 14, 14, 512)       4608      \n",
      "_________________________________________________________________\n",
      "conv_dw_9_bn (BatchNormaliza (None, 14, 14, 512)       2048      \n",
      "_________________________________________________________________\n",
      "conv_dw_9_relu (ReLU)        (None, 14, 14, 512)       0         \n",
      "_________________________________________________________________\n",
      "conv_pw_9 (Conv2D)           (None, 14, 14, 512)       262144    \n",
      "_________________________________________________________________\n",
      "conv_pw_9_bn (BatchNormaliza (None, 14, 14, 512)       2048      \n",
      "_________________________________________________________________\n",
      "conv_pw_9_relu (ReLU)        (None, 14, 14, 512)       0         \n",
      "_________________________________________________________________\n",
      "conv_dw_10 (DepthwiseConv2D) (None, 14, 14, 512)       4608      \n",
      "_________________________________________________________________\n",
      "conv_dw_10_bn (BatchNormaliz (None, 14, 14, 512)       2048      \n",
      "_________________________________________________________________\n",
      "conv_dw_10_relu (ReLU)       (None, 14, 14, 512)       0         \n",
      "_________________________________________________________________\n",
      "conv_pw_10 (Conv2D)          (None, 14, 14, 512)       262144    \n",
      "_________________________________________________________________\n",
      "conv_pw_10_bn (BatchNormaliz (None, 14, 14, 512)       2048      \n",
      "_________________________________________________________________\n",
      "conv_pw_10_relu (ReLU)       (None, 14, 14, 512)       0         \n",
      "_________________________________________________________________\n",
      "conv_dw_11 (DepthwiseConv2D) (None, 14, 14, 512)       4608      \n",
      "_________________________________________________________________\n",
      "conv_dw_11_bn (BatchNormaliz (None, 14, 14, 512)       2048      \n",
      "_________________________________________________________________\n",
      "conv_dw_11_relu (ReLU)       (None, 14, 14, 512)       0         \n",
      "_________________________________________________________________\n",
      "conv_pw_11 (Conv2D)          (None, 14, 14, 512)       262144    \n",
      "_________________________________________________________________\n",
      "conv_pw_11_bn (BatchNormaliz (None, 14, 14, 512)       2048      \n",
      "_________________________________________________________________\n",
      "conv_pw_11_relu (ReLU)       (None, 14, 14, 512)       0         \n",
      "_________________________________________________________________\n",
      "conv_pad_12 (ZeroPadding2D)  (None, 15, 15, 512)       0         \n",
      "_________________________________________________________________\n",
      "conv_dw_12 (DepthwiseConv2D) (None, 7, 7, 512)         4608      \n",
      "_________________________________________________________________\n",
      "conv_dw_12_bn (BatchNormaliz (None, 7, 7, 512)         2048      \n",
      "_________________________________________________________________\n",
      "conv_dw_12_relu (ReLU)       (None, 7, 7, 512)         0         \n",
      "_________________________________________________________________\n",
      "conv_pw_12 (Conv2D)          (None, 7, 7, 1024)        524288    \n",
      "_________________________________________________________________\n",
      "conv_pw_12_bn (BatchNormaliz (None, 7, 7, 1024)        4096      \n",
      "_________________________________________________________________\n",
      "conv_pw_12_relu (ReLU)       (None, 7, 7, 1024)        0         \n",
      "_________________________________________________________________\n",
      "conv_dw_13 (DepthwiseConv2D) (None, 7, 7, 1024)        9216      \n",
      "_________________________________________________________________\n",
      "conv_dw_13_bn (BatchNormaliz (None, 7, 7, 1024)        4096      \n",
      "_________________________________________________________________\n",
      "conv_dw_13_relu (ReLU)       (None, 7, 7, 1024)        0         \n",
      "_________________________________________________________________\n",
      "conv_pw_13 (Conv2D)          (None, 7, 7, 1024)        1048576   \n",
      "_________________________________________________________________\n",
      "conv_pw_13_bn (BatchNormaliz (None, 7, 7, 1024)        4096      \n",
      "_________________________________________________________________\n",
      "conv_pw_13_relu (ReLU)       (None, 7, 7, 1024)        0         \n",
      "_________________________________________________________________\n",
      "global_average_pooling2d (Gl (None, 1024)              0         \n",
      "_________________________________________________________________\n",
      "dense (Dense)                (None, 1024)              1049600   \n",
      "_________________________________________________________________\n",
      "dense_1 (Dense)              (None, 1024)              1049600   \n",
      "_________________________________________________________________\n",
      "dense_2 (Dense)              (None, 512)               524800    \n",
      "_________________________________________________________________\n",
      "dense_3 (Dense)              (None, 10)                5130      \n",
      "=================================================================\n",
      "Total params: 5,857,994\n",
      "Trainable params: 2,629,130\n",
      "Non-trainable params: 3,228,864\n",
      "_________________________________________________________________\n",
      "None\n"
     ]
    }
   ],
   "source": [
    "num_classes = 10\n",
    "\n",
    "FC_Head  = addTopmodel(MobileNet, num_classes)\n",
    "\n",
    "model = Model(inputs = MobileNet.input, outputs = FC_Head)\n",
    "\n",
    "print(model.summary())"
   ]
  },
  {
   "cell_type": "markdown",
   "id": "39e96b79",
   "metadata": {},
   "source": [
    "# Loading Monkey Breed Dataset"
   ]
  },
  {
   "cell_type": "code",
   "execution_count": 6,
   "id": "ca296511",
   "metadata": {},
   "outputs": [
    {
     "name": "stdout",
     "output_type": "stream",
     "text": [
      "Found 1098 images belonging to 10 classes.\n",
      "Found 272 images belonging to 10 classes.\n"
     ]
    }
   ],
   "source": [
    "from tensorflow.keras.preprocessing.image import ImageDataGenerator\n",
    "\n",
    "train_data_dir = \"./Classifier/monkey_breed/train\"\n",
    "validation_data_dir = \"./Classifier/monkey_breed/validation\"\n",
    "\n",
    "#Lets do some Data Augmentation\n",
    "\n",
    "train_datagen = ImageDataGenerator(rescale = 1./255,\n",
    "                                   rotation_range = 45,\n",
    "                                   width_shift_range = 0.3,\n",
    "                                   height_shift_range = 0.3,\n",
    "                                   horizontal_flip = True,\n",
    "                                   fill_mode = \"nearest\")\n",
    "\n",
    "\n",
    "\n",
    "validation_datagen = ImageDataGenerator(rescale = 1./255)\n",
    "\n",
    "batch_size = 32\n",
    "\n",
    "train_generator = train_datagen.flow_from_directory(train_data_dir,\n",
    "                                                    target_size = (img_rows, img_cols),\n",
    "                                                    batch_size = batch_size,\n",
    "                                                    class_mode = \"categorical\")\n",
    "\n",
    "validation_generator = validation_datagen.flow_from_directory(validation_data_dir,\n",
    "                                                              target_size = (img_rows, img_cols),\n",
    "                                                              batch_size = batch_size,\n",
    "                                                              class_mode = \"categorical\")"
   ]
  },
  {
   "cell_type": "markdown",
   "id": "100f02a5",
   "metadata": {},
   "source": [
    "# Training Our Model"
   ]
  },
  {
   "cell_type": "code",
   "execution_count": 7,
   "id": "08f99242",
   "metadata": {},
   "outputs": [],
   "source": [
    "from tensorflow.keras.optimizers import RMSprop\n",
    "from tensorflow.keras.callbacks import ModelCheckpoint, EarlyStopping"
   ]
  },
  {
   "cell_type": "code",
   "execution_count": 8,
   "id": "734f3ef1",
   "metadata": {},
   "outputs": [
    {
     "name": "stderr",
     "output_type": "stream",
     "text": [
      "/home/robin/anaconda3/envs/robin/lib/python3.7/site-packages/tensorflow/python/keras/optimizer_v2/optimizer_v2.py:375: UserWarning: The `lr` argument is deprecated, use `learning_rate` instead.\n",
      "  \"The `lr` argument is deprecated, use `learning_rate` instead.\")\n",
      "/home/robin/anaconda3/envs/robin/lib/python3.7/site-packages/tensorflow/python/keras/engine/training.py:1940: UserWarning: `Model.fit_generator` is deprecated and will be removed in a future version. Please use `Model.fit`, which supports generators.\n",
      "  warnings.warn('`Model.fit_generator` is deprecated and '\n",
      "2021-09-24 01:45:45.417823: W tensorflow/core/framework/cpu_allocator_impl.cc:80] Allocation of 19267584 exceeds 10% of free system memory.\n",
      "2021-09-24 01:45:47.882419: I tensorflow/compiler/mlir/mlir_graph_optimization_pass.cc:176] None of the MLIR Optimization Passes are enabled (registered 2)\n",
      "2021-09-24 01:45:48.036943: I tensorflow/core/platform/profile_utils/cpu_utils.cc:114] CPU Frequency: 2194775000 Hz\n"
     ]
    },
    {
     "name": "stdout",
     "output_type": "stream",
     "text": [
      "Epoch 1/5\n"
     ]
    },
    {
     "name": "stderr",
     "output_type": "stream",
     "text": [
      "2021-09-24 01:45:52.936854: W tensorflow/core/framework/cpu_allocator_impl.cc:80] Allocation of 19267584 exceeds 10% of free system memory.\n",
      "2021-09-24 01:45:52.986194: W tensorflow/core/framework/cpu_allocator_impl.cc:80] Allocation of 51380224 exceeds 10% of free system memory.\n",
      "2021-09-24 01:45:53.605931: W tensorflow/core/framework/cpu_allocator_impl.cc:80] Allocation of 51380224 exceeds 10% of free system memory.\n",
      "2021-09-24 01:45:53.780221: W tensorflow/core/framework/cpu_allocator_impl.cc:80] Allocation of 51380224 exceeds 10% of free system memory.\n"
     ]
    },
    {
     "name": "stdout",
     "output_type": "stream",
     "text": [
      "34/34 [==============================] - 99s 3s/step - loss: 2.3908 - accuracy: 0.3790 - val_loss: 0.8299 - val_accuracy: 0.6691\n",
      "\n",
      "Epoch 00001: val_loss improved from inf to 0.82988, saving model to monkey_breed_mobileNet.h5\n",
      "Epoch 2/5\n",
      "34/34 [==============================] - 92s 3s/step - loss: 0.9067 - accuracy: 0.7158 - val_loss: 0.4716 - val_accuracy: 0.8750\n",
      "\n",
      "Epoch 00002: val_loss improved from 0.82988 to 0.47162, saving model to monkey_breed_mobileNet.h5\n",
      "Epoch 3/5\n",
      "34/34 [==============================] - 85s 3s/step - loss: 0.6547 - accuracy: 0.8096 - val_loss: 0.4843 - val_accuracy: 0.8603\n",
      "\n",
      "Epoch 00003: val_loss did not improve from 0.47162\n",
      "Epoch 4/5\n",
      "34/34 [==============================] - 73s 2s/step - loss: 0.6242 - accuracy: 0.8377 - val_loss: 0.1445 - val_accuracy: 0.9559\n",
      "\n",
      "Epoch 00004: val_loss improved from 0.47162 to 0.14445, saving model to monkey_breed_mobileNet.h5\n",
      "Epoch 5/5\n",
      "34/34 [==============================] - 71s 2s/step - loss: 0.3409 - accuracy: 0.9081 - val_loss: 0.1350 - val_accuracy: 0.9596\n",
      "\n",
      "Epoch 00005: val_loss improved from 0.14445 to 0.13497, saving model to monkey_breed_mobileNet.h5\n"
     ]
    }
   ],
   "source": [
    "checkpoint = ModelCheckpoint(\"monkey_breed_mobileNet.h5\",\n",
    "                             monitor = \"val_loss\",\n",
    "                             mode = \"min\",\n",
    "                             save_best_only = True,\n",
    "                             verbose = 1)\n",
    "\n",
    "earlystop = EarlyStopping(monitor = \"val_loss\",\n",
    "                          min_delta = 0,\n",
    "                          patience = 3,\n",
    "                          verbose = 1,\n",
    "                          restore_best_weights = True)\n",
    "\n",
    "callbacks = [checkpoint, earlystop]\n",
    "\n",
    "model.compile(loss = \"categorical_crossentropy\",\n",
    "              optimizer = RMSprop(lr = 0.001),\n",
    "              metrics = [\"accuracy\"])\n",
    "\n",
    "train_samples_nb = 1098\n",
    "validation_samples_nb = 272\n",
    "\n",
    "epochs = 5\n",
    "batch_size = 32\n",
    "\n",
    "history = model.fit_generator(train_generator,\n",
    "                              steps_per_epoch = train_samples_nb//batch_size,\n",
    "                              epochs = epochs,\n",
    "                              callbacks = callbacks,\n",
    "                              validation_data = validation_generator)"
   ]
  },
  {
   "cell_type": "code",
   "execution_count": 9,
   "id": "d48e8c24",
   "metadata": {},
   "outputs": [
    {
     "name": "stdout",
     "output_type": "stream",
     "text": [
      "{'loss': [2.3908064365386963, 0.9067190885543823, 0.6547368168830872, 0.6242305040359497, 0.3408568501472473], 'accuracy': [0.3789868652820587, 0.7157598733901978, 0.809568464756012, 0.8377110958099365, 0.908067524433136], 'val_loss': [0.8298754692077637, 0.47162431478500366, 0.48426902294158936, 0.14445066452026367, 0.13497108221054077], 'val_accuracy': [0.6691176295280457, 0.875, 0.8602941036224365, 0.9558823704719543, 0.9595588445663452]}\n"
     ]
    }
   ],
   "source": [
    "print(history.history)"
   ]
  },
  {
   "cell_type": "markdown",
   "id": "88154e71",
   "metadata": {},
   "source": [
    "# Save the History"
   ]
  },
  {
   "cell_type": "code",
   "execution_count": 10,
   "id": "5b0576dc",
   "metadata": {},
   "outputs": [],
   "source": [
    "import pickle\n",
    "\n",
    "pickle_out = open(\"Monkey_breed_history.pickle\",\"wb\")\n",
    "pickle.dump(history.history, pickle_out)\n",
    "pickle_out.close()"
   ]
  },
  {
   "cell_type": "code",
   "execution_count": 11,
   "id": "d51c2f58",
   "metadata": {},
   "outputs": [
    {
     "name": "stdout",
     "output_type": "stream",
     "text": [
      "{'loss': [2.3908064365386963, 0.9067190885543823, 0.6547368168830872, 0.6242305040359497, 0.3408568501472473], 'accuracy': [0.3789868652820587, 0.7157598733901978, 0.809568464756012, 0.8377110958099365, 0.908067524433136], 'val_loss': [0.8298754692077637, 0.47162431478500366, 0.48426902294158936, 0.14445066452026367, 0.13497108221054077], 'val_accuracy': [0.6691176295280457, 0.875, 0.8602941036224365, 0.9558823704719543, 0.9595588445663452]}\n"
     ]
    }
   ],
   "source": [
    "pickle_in = open(\"Monkey_breed_history.pickle\",\"rb\")\n",
    "save_history = pickle.load(pickle_in)\n",
    "print(save_history)"
   ]
  },
  {
   "cell_type": "code",
   "execution_count": 2,
   "id": "9bd6dde1",
   "metadata": {},
   "outputs": [],
   "source": [
    "##loading the model\n",
    "\n",
    "from tensorflow.keras.models import load_model\n",
    "\n",
    "clf = load_model(\"monkey_breed_mobileNet.h5\")"
   ]
  },
  {
   "cell_type": "markdown",
   "id": "e4f3c9db",
   "metadata": {},
   "source": [
    "# Testing Classifier on Test image"
   ]
  },
  {
   "cell_type": "code",
   "execution_count": 4,
   "id": "e6fccea4",
   "metadata": {},
   "outputs": [],
   "source": [
    "import os\n",
    "import cv2\n",
    "import numpy as np\n",
    "from os import listdir\n",
    "from os.path import isfile, join"
   ]
  },
  {
   "cell_type": "code",
   "execution_count": 5,
   "id": "cfeb6d1a",
   "metadata": {},
   "outputs": [
    {
     "name": "stdout",
     "output_type": "stream",
     "text": [
      "Class - pygmy_marmoset\n"
     ]
    },
    {
     "name": "stderr",
     "output_type": "stream",
     "text": [
      "2021-09-26 01:37:36.264422: I tensorflow/compiler/mlir/mlir_graph_optimization_pass.cc:176] None of the MLIR Optimization Passes are enabled (registered 2)\n",
      "2021-09-26 01:37:36.281835: I tensorflow/core/platform/profile_utils/cpu_utils.cc:114] CPU Frequency: 2194805000 Hz\n"
     ]
    },
    {
     "name": "stdout",
     "output_type": "stream",
     "text": [
      "Class - silvary_marmoset\n",
      "Class - patas_monkey\n",
      "Class - silvary_marmoset\n",
      "Class - manted_howler\n",
      "Class - nilgiri_langur\n",
      "Class - common_squirrel_monkey\n",
      "Class - nilgiri_langur\n",
      "Class - pygmy_marmoset\n",
      "Class - black_headed_night_monkey\n"
     ]
    }
   ],
   "source": [
    "monkey_breed_dict = {\"[0]\": \"manted_howler\",\n",
    "                     \"[1]\": \"patas_monkey\",\n",
    "                     \"[2]\": \"bald_uakari\",\n",
    "                     \"[3]\": \"japanese_macaque\",\n",
    "                     \"[4]\": \"pygmy_marmoset\",\n",
    "                     \"[5]\": \"white_headed_capuchin\",\n",
    "                     \"[6]\": \"silvary_marmoset\",\n",
    "                     \"[7]\": \"common_squirrel_monkey\",\n",
    "                     \"[8]\": \"black_headed_night_monkey\",\n",
    "                     \"[9]\": \"nilgiri_langur\"}\n",
    "\n",
    "#this dict is for showing the true result from validation folder\n",
    "monkey_breed_dict_n = {\"n0\": \"manted_howler\",\n",
    "                     \"n1\": \"patas_monkey\",\n",
    "                     \"n2\": \"bald_uakari\",\n",
    "                     \"n3\": \"japanese_macaque\",\n",
    "                     \"n4\": \"pygmy_marmoset\",\n",
    "                     \"n5\": \"white_headed_capuchin\",\n",
    "                     \"n6\": \"silvary_marmoset\",\n",
    "                     \"n7\": \"common_squirrel_monkey\",\n",
    "                     \"n8\": \"black_headed_night_monkey\",\n",
    "                     \"n9\": \"nilgiri_langur\"}\n",
    "\n",
    "\n",
    "def draw_test(name, pred, im):\n",
    "    monkey = monkey_breed_dict[str(pred)]\n",
    "    \n",
    "    BLACK = [0,0,0]\n",
    "    expanded_img = cv2.copyMakeBorder(im, 80, 0,0, 100, cv2.BORDER_CONSTANT, value = BLACK)\n",
    "    cv2.putText(expanded_img, monkey, (20,60), cv2.FONT_HERSHEY_PLAIN,1,(0,0,255), 2)\n",
    "    cv2.imshow(name, expanded_img)\n",
    "    \n",
    "\n",
    "def getRandomImg(path):\n",
    "    \"\"\"loads a random image from random folder in our test path\"\"\"\n",
    "    \n",
    "    folder = list(filter(lambda x:os.path.isdir(os.path.join(path, x)), os.listdir(path)))\n",
    "    ran_directory = np.random.randint(0,len(folder))\n",
    "    path_class = folder[ran_directory]\n",
    "    #print(path_class)\n",
    "    print(\"Class - \" + monkey_breed_dict_n[str(path_class)])\n",
    "    file_path = path + path_class\n",
    "    file_name = [f for f in listdir(file_path) if isfile(join(file_path,f))]\n",
    "    random_file_index = np.random.randint(0, len(file_name))\n",
    "    image_name = file_name[random_file_index]\n",
    "    \n",
    "    return cv2.imread(file_path+\"/\"+image_name)\n",
    "\n",
    "for i in range(0,10):\n",
    "    input_im = getRandomImg(\"./Classifier/monkey_breed/validation/\")\n",
    "    input_original = input_im.copy()\n",
    "    input_original = cv2.resize(input_original, None, fx = 0.5, fy = 0.5, interpolation = cv2.INTER_LINEAR)\n",
    "    \n",
    "    input_im = cv2.resize(input_im, (224,224), interpolation = cv2.INTER_LINEAR)\n",
    "    input_im = input_im / 255\n",
    "    input_im = input_im.reshape(1,224,224,3)\n",
    "    \n",
    "    #Get prediction \n",
    "    res = np.argmax(clf.predict(input_im, 1, verbose = 0), axis = 1)\n",
    "    \n",
    "    \n",
    "    #show image with predicted class\n",
    "    draw_test(\"prediction\", res, input_original)\n",
    "    cv2.waitKey(0)\n",
    "    \n",
    "cv2.destroyAllWindows()"
   ]
  },
  {
   "cell_type": "code",
   "execution_count": null,
   "id": "10ca64f1",
   "metadata": {},
   "outputs": [],
   "source": []
  },
  {
   "cell_type": "code",
   "execution_count": null,
   "id": "a3abb4ae",
   "metadata": {},
   "outputs": [],
   "source": []
  }
 ],
 "metadata": {
  "kernelspec": {
   "display_name": "robin",
   "language": "python",
   "name": "robin"
  },
  "language_info": {
   "codemirror_mode": {
    "name": "ipython",
    "version": 3
   },
   "file_extension": ".py",
   "mimetype": "text/x-python",
   "name": "python",
   "nbconvert_exporter": "python",
   "pygments_lexer": "ipython3",
   "version": "3.7.11"
  }
 },
 "nbformat": 4,
 "nbformat_minor": 5
}
