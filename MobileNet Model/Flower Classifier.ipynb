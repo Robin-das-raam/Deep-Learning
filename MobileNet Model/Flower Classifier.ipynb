{
 "cells": [
  {
   "cell_type": "markdown",
   "id": "6a963f59",
   "metadata": {},
   "source": [
    "# Flower Classifier with VGG16"
   ]
  },
  {
   "cell_type": "markdown",
   "id": "006cb440",
   "metadata": {},
   "source": [
    "### Loading VGG model"
   ]
  },
  {
   "cell_type": "code",
   "execution_count": 2,
   "id": "ab5c4c3f",
   "metadata": {},
   "outputs": [],
   "source": [
    "from tensorflow.keras.applications import VGG16\n",
    "\n",
    "img_rows = 224\n",
    "img_cols = 224\n",
    "\n",
    "vgg16 = VGG16(weights = \"imagenet\",\n",
    "              include_top = False,\n",
    "              input_shape = (img_rows, img_cols,3))"
   ]
  },
  {
   "cell_type": "code",
   "execution_count": 3,
   "id": "a7f49ff3",
   "metadata": {},
   "outputs": [
    {
     "name": "stdout",
     "output_type": "stream",
     "text": [
      "0 InputLayer True\n",
      "1 Conv2D True\n",
      "2 Conv2D True\n",
      "3 MaxPooling2D True\n",
      "4 Conv2D True\n",
      "5 Conv2D True\n",
      "6 MaxPooling2D True\n",
      "7 Conv2D True\n",
      "8 Conv2D True\n",
      "9 Conv2D True\n",
      "10 MaxPooling2D True\n",
      "11 Conv2D True\n",
      "12 Conv2D True\n",
      "13 Conv2D True\n",
      "14 MaxPooling2D True\n",
      "15 Conv2D True\n",
      "16 Conv2D True\n",
      "17 Conv2D True\n",
      "18 MaxPooling2D True\n"
     ]
    }
   ],
   "source": [
    "for i, layer in enumerate (vgg16.layers):\n",
    "    print(str(i)+ \" \"+layer.__class__.__name__, layer.trainable)"
   ]
  },
  {
   "cell_type": "code",
   "execution_count": 5,
   "id": "8efdda19",
   "metadata": {},
   "outputs": [
    {
     "name": "stdout",
     "output_type": "stream",
     "text": [
      "0 InputLayer False\n",
      "1 Conv2D False\n",
      "2 Conv2D False\n",
      "3 MaxPooling2D False\n",
      "4 Conv2D False\n",
      "5 Conv2D False\n",
      "6 MaxPooling2D False\n",
      "7 Conv2D False\n",
      "8 Conv2D False\n",
      "9 Conv2D False\n",
      "10 MaxPooling2D False\n",
      "11 Conv2D False\n",
      "12 Conv2D False\n",
      "13 Conv2D False\n",
      "14 MaxPooling2D False\n",
      "15 Conv2D False\n",
      "16 Conv2D False\n",
      "17 Conv2D False\n",
      "18 MaxPooling2D False\n"
     ]
    }
   ],
   "source": [
    "## Freeze all layer except top 4\n",
    "\n",
    "for layer in vgg16.layers:\n",
    "    layer.trainable = False\n",
    "    \n",
    "for i , layer in enumerate (vgg16.layers):\n",
    "    print(str(i) + \" \"+ layer.__class__.__name__,layer.trainable)"
   ]
  },
  {
   "cell_type": "markdown",
   "id": "72fee331",
   "metadata": {},
   "source": [
    "# Make a function to get back the FC Head"
   ]
  },
  {
   "cell_type": "code",
   "execution_count": 6,
   "id": "1eaded9b",
   "metadata": {},
   "outputs": [],
   "source": [
    "def addTopmodel(bottom_model, num_classes, D = 256):\n",
    "    ## D= Dense layer\n",
    "    \n",
    "    top_model = bottom_model.output\n",
    "    top_model = Flatten(name = \"flatten\")(top_model)\n",
    "    top_model = Dense(D, activation = \"relu\")(top_model)\n",
    "    top_model = Dropout((0.3))(top_model)\n",
    "    top_model = Dense(num_classes, activation = \"softmax\")(top_model)\n",
    "    \n",
    "    return top_model\n",
    "\n"
   ]
  },
  {
   "cell_type": "markdown",
   "id": "93d5984e",
   "metadata": {},
   "source": [
    "# Add our FC Head back onto VGG"
   ]
  },
  {
   "cell_type": "code",
   "execution_count": 7,
   "id": "9e53921c",
   "metadata": {},
   "outputs": [],
   "source": [
    "from tensorflow.keras.models import Sequential\n",
    "from tensorflow.keras.layers import Dense, Flatten, Activation, Dropout\n",
    "from tensorflow.keras.layers import Conv2D, MaxPooling2D, ZeroPadding2D\n",
    "from tensorflow.keras.layers import BatchNormalization\n",
    "from tensorflow.keras.models import Model"
   ]
  },
  {
   "cell_type": "code",
   "execution_count": 8,
   "id": "44a1d9ca",
   "metadata": {},
   "outputs": [
    {
     "name": "stdout",
     "output_type": "stream",
     "text": [
      "Model: \"model\"\n",
      "_________________________________________________________________\n",
      "Layer (type)                 Output Shape              Param #   \n",
      "=================================================================\n",
      "input_2 (InputLayer)         [(None, 224, 224, 3)]     0         \n",
      "_________________________________________________________________\n",
      "block1_conv1 (Conv2D)        (None, 224, 224, 64)      1792      \n",
      "_________________________________________________________________\n",
      "block1_conv2 (Conv2D)        (None, 224, 224, 64)      36928     \n",
      "_________________________________________________________________\n",
      "block1_pool (MaxPooling2D)   (None, 112, 112, 64)      0         \n",
      "_________________________________________________________________\n",
      "block2_conv1 (Conv2D)        (None, 112, 112, 128)     73856     \n",
      "_________________________________________________________________\n",
      "block2_conv2 (Conv2D)        (None, 112, 112, 128)     147584    \n",
      "_________________________________________________________________\n",
      "block2_pool (MaxPooling2D)   (None, 56, 56, 128)       0         \n",
      "_________________________________________________________________\n",
      "block3_conv1 (Conv2D)        (None, 56, 56, 256)       295168    \n",
      "_________________________________________________________________\n",
      "block3_conv2 (Conv2D)        (None, 56, 56, 256)       590080    \n",
      "_________________________________________________________________\n",
      "block3_conv3 (Conv2D)        (None, 56, 56, 256)       590080    \n",
      "_________________________________________________________________\n",
      "block3_pool (MaxPooling2D)   (None, 28, 28, 256)       0         \n",
      "_________________________________________________________________\n",
      "block4_conv1 (Conv2D)        (None, 28, 28, 512)       1180160   \n",
      "_________________________________________________________________\n",
      "block4_conv2 (Conv2D)        (None, 28, 28, 512)       2359808   \n",
      "_________________________________________________________________\n",
      "block4_conv3 (Conv2D)        (None, 28, 28, 512)       2359808   \n",
      "_________________________________________________________________\n",
      "block4_pool (MaxPooling2D)   (None, 14, 14, 512)       0         \n",
      "_________________________________________________________________\n",
      "block5_conv1 (Conv2D)        (None, 14, 14, 512)       2359808   \n",
      "_________________________________________________________________\n",
      "block5_conv2 (Conv2D)        (None, 14, 14, 512)       2359808   \n",
      "_________________________________________________________________\n",
      "block5_conv3 (Conv2D)        (None, 14, 14, 512)       2359808   \n",
      "_________________________________________________________________\n",
      "block5_pool (MaxPooling2D)   (None, 7, 7, 512)         0         \n",
      "_________________________________________________________________\n",
      "flatten (Flatten)            (None, 25088)             0         \n",
      "_________________________________________________________________\n",
      "dense (Dense)                (None, 128)               3211392   \n",
      "_________________________________________________________________\n",
      "dropout (Dropout)            (None, 128)               0         \n",
      "_________________________________________________________________\n",
      "dense_1 (Dense)              (None, 17)                2193      \n",
      "=================================================================\n",
      "Total params: 17,928,273\n",
      "Trainable params: 3,213,585\n",
      "Non-trainable params: 14,714,688\n",
      "_________________________________________________________________\n",
      "None\n"
     ]
    },
    {
     "name": "stderr",
     "output_type": "stream",
     "text": [
      "2021-09-23 03:22:33.281294: W tensorflow/core/framework/cpu_allocator_impl.cc:80] Allocation of 12845056 exceeds 10% of free system memory.\n",
      "2021-09-23 03:22:33.303157: W tensorflow/core/framework/cpu_allocator_impl.cc:80] Allocation of 12845056 exceeds 10% of free system memory.\n",
      "2021-09-23 03:22:33.309718: W tensorflow/core/framework/cpu_allocator_impl.cc:80] Allocation of 12845056 exceeds 10% of free system memory.\n"
     ]
    }
   ],
   "source": [
    "num_classes = 17\n",
    "\n",
    "FC_Head = addTopmodel(vgg16, num_classes, 128)\n",
    "\n",
    "model = Model(inputs = vgg16.input, outputs = FC_Head)\n",
    "\n",
    "print(model.summary())"
   ]
  },
  {
   "cell_type": "markdown",
   "id": "66a0c9eb",
   "metadata": {},
   "source": [
    "# Loading Flower Dataset"
   ]
  },
  {
   "cell_type": "code",
   "execution_count": 9,
   "id": "6f4724bb",
   "metadata": {},
   "outputs": [
    {
     "name": "stdout",
     "output_type": "stream",
     "text": [
      "Found 1190 images belonging to 17 classes.\n",
      "Found 170 images belonging to 17 classes.\n"
     ]
    }
   ],
   "source": [
    "from tensorflow.keras.preprocessing.image import ImageDataGenerator\n",
    "\n",
    "train_data_dir = \"./Classifier/17_flowers/train\"\n",
    "validation_data_dir = \"./Classifier/17_flowers/validation\"\n",
    "\n",
    "train_datagen = ImageDataGenerator(rescale = 1./255,\n",
    "                                   rotation_range = 20,\n",
    "                                   width_shift_range = 0.2,\n",
    "                                   height_shift_range = 0.2,\n",
    "                                   horizontal_flip = True,\n",
    "                                   fill_mode = \"nearest\")\n",
    "\n",
    "validation_datagen = ImageDataGenerator(rescale = 1./255)\n",
    "\n",
    "train_batchsize = 16\n",
    "val_batchsize = 10\n",
    "\n",
    "train_generator = train_datagen.flow_from_directory(train_data_dir,\n",
    "                                                    target_size = (img_rows, img_cols),\n",
    "                                                    batch_size = train_batchsize,\n",
    "                                                    class_mode = \"categorical\")\n",
    "\n",
    "validation_generator = validation_datagen.flow_from_directory(validation_data_dir,\n",
    "                                                              target_size = (img_rows, img_cols),\n",
    "                                                              batch_size = val_batchsize,\n",
    "                                                              class_mode = \"categorical\")"
   ]
  },
  {
   "cell_type": "markdown",
   "id": "8646bf99",
   "metadata": {},
   "source": [
    "# Training Top Layers "
   ]
  },
  {
   "cell_type": "code",
   "execution_count": 12,
   "id": "b853e580",
   "metadata": {},
   "outputs": [],
   "source": [
    "from tensorflow.keras.optimizers import RMSprop\n",
    "from tensorflow.keras.callbacks import ModelCheckpoint, EarlyStopping\n",
    "\n",
    "checkpoint = ModelCheckpoint(\"Flower_classifier_vgg16.h5\",\n",
    "                             monitor = \"val_loss\",\n",
    "                             mode = \"min\",\n",
    "                             save_best_only = True,\n",
    "                             verbose = 1)\n",
    "\n",
    "earlystop = EarlyStopping(monitor = \"val_loss\",\n",
    "                          min_delta = 0,\n",
    "                          patience = 3,\n",
    "                          verbose = 1,\n",
    "                          restore_best_weights = True)\n",
    "\n",
    "callbacks = [checkpoint, earlystop]\n",
    "\n",
    "model.compile(loss = \"categorical_crossentropy\",\n",
    "              optimizer = RMSprop(lr = 0.001),\n",
    "              metrics = [\"accuracy\"])\n",
    "\n",
    "nb_train_samples = 1190\n",
    "nb_val_samples = 170\n",
    "epochs = 3\n",
    "batch_size = 16\n"
   ]
  },
  {
   "cell_type": "code",
   "execution_count": 13,
   "id": "c942fa58",
   "metadata": {},
   "outputs": [
    {
     "name": "stderr",
     "output_type": "stream",
     "text": [
      "/home/robin/anaconda3/envs/robin/lib/python3.7/site-packages/tensorflow/python/keras/engine/training.py:1940: UserWarning: `Model.fit_generator` is deprecated and will be removed in a future version. Please use `Model.fit`, which supports generators.\n",
      "  warnings.warn('`Model.fit_generator` is deprecated and '\n",
      "2021-09-23 03:44:17.071299: I tensorflow/compiler/mlir/mlir_graph_optimization_pass.cc:176] None of the MLIR Optimization Passes are enabled (registered 2)\n",
      "2021-09-23 03:44:17.162138: I tensorflow/core/platform/profile_utils/cpu_utils.cc:114] CPU Frequency: 2194775000 Hz\n"
     ]
    },
    {
     "name": "stdout",
     "output_type": "stream",
     "text": [
      "Epoch 1/3\n"
     ]
    },
    {
     "name": "stderr",
     "output_type": "stream",
     "text": [
      "2021-09-23 03:44:17.859640: W tensorflow/core/framework/cpu_allocator_impl.cc:80] Allocation of 12845056 exceeds 10% of free system memory.\n",
      "2021-09-23 03:44:19.099046: W tensorflow/core/framework/cpu_allocator_impl.cc:80] Allocation of 12845056 exceeds 10% of free system memory.\n"
     ]
    },
    {
     "name": "stdout",
     "output_type": "stream",
     "text": [
      "74/74 [==============================] - 562s 8s/step - loss: 3.3877 - accuracy: 0.1363 - val_loss: 2.4897 - val_accuracy: 0.1100\n",
      "\n",
      "Epoch 00001: val_loss improved from inf to 2.48973, saving model to Flower_classifier_vgg16.h5\n",
      "Epoch 2/3\n",
      "74/74 [==============================] - 614s 8s/step - loss: 2.2405 - accuracy: 0.2658 - val_loss: 1.5877 - val_accuracy: 0.5700\n",
      "\n",
      "Epoch 00002: val_loss improved from 2.48973 to 1.58773, saving model to Flower_classifier_vgg16.h5\n",
      "Epoch 3/3\n",
      "74/74 [==============================] - 566s 8s/step - loss: 1.9393 - accuracy: 0.3739 - val_loss: 1.1582 - val_accuracy: 0.7000\n",
      "\n",
      "Epoch 00003: val_loss improved from 1.58773 to 1.15816, saving model to Flower_classifier_vgg16.h5\n"
     ]
    }
   ],
   "source": [
    "history = model.fit_generator(train_generator,\n",
    "                              steps_per_epoch = nb_train_samples//batch_size,\n",
    "                              epochs = epochs,\n",
    "                              callbacks = callbacks,\n",
    "                              validation_data = validation_generator,\n",
    "                              validation_steps = nb_val_samples//batch_size)\n",
    "\n",
    "model.save(\"flowers_classifier_vgg16.h5\")"
   ]
  },
  {
   "cell_type": "markdown",
   "id": "2334a60b",
   "metadata": {},
   "source": [
    "# Load the model"
   ]
  },
  {
   "cell_type": "code",
   "execution_count": 3,
   "id": "53db5bdd",
   "metadata": {},
   "outputs": [],
   "source": [
    "from tensorflow.keras.models import load_model\n",
    "\n",
    "clf = load_model(\"flowers_classifier_vgg16.h5\")"
   ]
  },
  {
   "cell_type": "markdown",
   "id": "701997eb",
   "metadata": {},
   "source": [
    "# Improving the model performance"
   ]
  },
  {
   "cell_type": "code",
   "execution_count": 2,
   "id": "8e0b4443",
   "metadata": {},
   "outputs": [],
   "source": [
    "from tensorflow.keras.applications import VGG16"
   ]
  },
  {
   "cell_type": "code",
   "execution_count": 4,
   "id": "2fc74a5e",
   "metadata": {},
   "outputs": [
    {
     "name": "stdout",
     "output_type": "stream",
     "text": [
      "0 InputLayer False\n",
      "1 Conv2D False\n",
      "2 Conv2D False\n",
      "3 MaxPooling2D False\n",
      "4 Conv2D False\n",
      "5 Conv2D False\n",
      "6 MaxPooling2D False\n",
      "7 Conv2D False\n",
      "8 Conv2D False\n",
      "9 Conv2D False\n",
      "10 MaxPooling2D False\n",
      "11 Conv2D False\n",
      "12 Conv2D False\n",
      "13 Conv2D False\n",
      "14 MaxPooling2D False\n",
      "15 Conv2D False\n",
      "16 Conv2D False\n",
      "17 Conv2D False\n",
      "18 MaxPooling2D False\n"
     ]
    }
   ],
   "source": [
    "#Resizing the image size\n",
    "\n",
    "img_rows = 64\n",
    "img_cols = 64\n",
    "\n",
    "vgg16 = VGG16(weights = \"imagenet\",\n",
    "              include_top = False,\n",
    "              input_shape = (img_rows, img_cols, 3))\n",
    "\n",
    "for layer in vgg16.layers:\n",
    "    layer.trainable = False\n",
    "    \n",
    "for i, layer in enumerate(vgg16.layers):\n",
    "    print(str(i)+\" \"+layer.__class__.__name__,layer.trainable)"
   ]
  },
  {
   "cell_type": "markdown",
   "id": "a6652f38",
   "metadata": {},
   "source": [
    "# Create New model using image size 64x64"
   ]
  },
  {
   "cell_type": "code",
   "execution_count": 5,
   "id": "2994b47e",
   "metadata": {},
   "outputs": [],
   "source": [
    "from tensorflow.keras.models import Sequential\n",
    "from tensorflow.keras.layers import Dense, Flatten, Activation, Dropout\n",
    "from tensorflow.keras.layers import Conv2D, MaxPooling2D, ZeroPadding2D\n",
    "from tensorflow.keras.layers import BatchNormalization\n",
    "from tensorflow.keras.models import Model\n",
    "from tensorflow.keras.preprocessing.image import ImageDataGenerator\n",
    "from tensorflow.keras.optimizers import RMSprop"
   ]
  },
  {
   "cell_type": "code",
   "execution_count": 8,
   "id": "2cc989bf",
   "metadata": {},
   "outputs": [
    {
     "name": "stdout",
     "output_type": "stream",
     "text": [
      "Found 1190 images belonging to 17 classes.\n",
      "Found 170 images belonging to 17 classes.\n",
      "Model: \"model\"\n",
      "_________________________________________________________________\n",
      "Layer (type)                 Output Shape              Param #   \n",
      "=================================================================\n",
      "input_2 (InputLayer)         [(None, 64, 64, 3)]       0         \n",
      "_________________________________________________________________\n",
      "block1_conv1 (Conv2D)        (None, 64, 64, 64)        1792      \n",
      "_________________________________________________________________\n",
      "block1_conv2 (Conv2D)        (None, 64, 64, 64)        36928     \n",
      "_________________________________________________________________\n",
      "block1_pool (MaxPooling2D)   (None, 32, 32, 64)        0         \n",
      "_________________________________________________________________\n",
      "block2_conv1 (Conv2D)        (None, 32, 32, 128)       73856     \n",
      "_________________________________________________________________\n",
      "block2_conv2 (Conv2D)        (None, 32, 32, 128)       147584    \n",
      "_________________________________________________________________\n",
      "block2_pool (MaxPooling2D)   (None, 16, 16, 128)       0         \n",
      "_________________________________________________________________\n",
      "block3_conv1 (Conv2D)        (None, 16, 16, 256)       295168    \n",
      "_________________________________________________________________\n",
      "block3_conv2 (Conv2D)        (None, 16, 16, 256)       590080    \n",
      "_________________________________________________________________\n",
      "block3_conv3 (Conv2D)        (None, 16, 16, 256)       590080    \n",
      "_________________________________________________________________\n",
      "block3_pool (MaxPooling2D)   (None, 8, 8, 256)         0         \n",
      "_________________________________________________________________\n",
      "block4_conv1 (Conv2D)        (None, 8, 8, 512)         1180160   \n",
      "_________________________________________________________________\n",
      "block4_conv2 (Conv2D)        (None, 8, 8, 512)         2359808   \n",
      "_________________________________________________________________\n",
      "block4_conv3 (Conv2D)        (None, 8, 8, 512)         2359808   \n",
      "_________________________________________________________________\n",
      "block4_pool (MaxPooling2D)   (None, 4, 4, 512)         0         \n",
      "_________________________________________________________________\n",
      "block5_conv1 (Conv2D)        (None, 4, 4, 512)         2359808   \n",
      "_________________________________________________________________\n",
      "block5_conv2 (Conv2D)        (None, 4, 4, 512)         2359808   \n",
      "_________________________________________________________________\n",
      "block5_conv3 (Conv2D)        (None, 4, 4, 512)         2359808   \n",
      "_________________________________________________________________\n",
      "block5_pool (MaxPooling2D)   (None, 2, 2, 512)         0         \n",
      "_________________________________________________________________\n",
      "flatten (Flatten)            (None, 2048)              0         \n",
      "_________________________________________________________________\n",
      "dense (Dense)                (None, 256)               524544    \n",
      "_________________________________________________________________\n",
      "dropout (Dropout)            (None, 256)               0         \n",
      "_________________________________________________________________\n",
      "dense_1 (Dense)              (None, 17)                4369      \n",
      "=================================================================\n",
      "Total params: 15,243,601\n",
      "Trainable params: 528,913\n",
      "Non-trainable params: 14,714,688\n",
      "_________________________________________________________________\n",
      "None\n"
     ]
    }
   ],
   "source": [
    "train_data_dir = \"./Classifier/17_flowers/train\"\n",
    "validation_data_dir = \"./Classifier/17_flowers/validation\"\n",
    "\n",
    "\n",
    "train_datagen = ImageDataGenerator(rescale = 1./255,\n",
    "                                   rotation_range = 20,\n",
    "                                   width_shift_range = 0.2,\n",
    "                                   height_shift_range = 0.2,\n",
    "                                   horizontal_flip = True,\n",
    "                                   fill_mode = \"nearest\")\n",
    "\n",
    "validation_datagen = ImageDataGenerator(rescale = 1./255)\n",
    "\n",
    "train_batchsize = 32\n",
    "val_batchsize = 10\n",
    "\n",
    "train_generator = train_datagen.flow_from_directory(train_data_dir,\n",
    "                                                    target_size = (img_rows, img_cols),\n",
    "                                                    batch_size = train_batchsize,\n",
    "                                                    class_mode = \"categorical\")\n",
    "\n",
    "validation_generator = validation_datagen.flow_from_directory(validation_data_dir,\n",
    "                                                              target_size = (img_rows, img_cols),\n",
    "                                                              batch_size = val_batchsize,\n",
    "                                                              class_mode = \"categorical\",\n",
    "                                                              shuffle = False)\n",
    "#number of classes in flower dataset\n",
    "num_classes = 17\n",
    "\n",
    "FC_Head = addTopmodel(vgg16, num_classes)\n",
    "\n",
    "model = Model(inputs = vgg16.input, outputs = FC_Head)\n",
    "\n",
    "print(model.summary())"
   ]
  },
  {
   "cell_type": "code",
   "execution_count": 12,
   "id": "665a8a68",
   "metadata": {},
   "outputs": [
    {
     "name": "stdout",
     "output_type": "stream",
     "text": [
      "Epoch 1/25\n",
      "37/37 [==============================] - 43s 1s/step - loss: 1.1464 - accuracy: 0.6425 - val_loss: 1.2664 - val_accuracy: 0.6000\n",
      "\n",
      "Epoch 00001: val_loss improved from inf to 1.26638, saving model to flower_clf_vgg16_64.h5\n",
      "Epoch 2/25\n",
      "37/37 [==============================] - 45s 1s/step - loss: 1.0869 - accuracy: 0.6857 - val_loss: 1.3566 - val_accuracy: 0.5600\n",
      "\n",
      "Epoch 00002: val_loss did not improve from 1.26638\n",
      "Epoch 3/25\n",
      "37/37 [==============================] - 46s 1s/step - loss: 1.0709 - accuracy: 0.6779 - val_loss: 1.2435 - val_accuracy: 0.6200\n",
      "\n",
      "Epoch 00003: val_loss improved from 1.26638 to 1.24353, saving model to flower_clf_vgg16_64.h5\n",
      "Epoch 4/25\n",
      "37/37 [==============================] - 47s 1s/step - loss: 1.0450 - accuracy: 0.6839 - val_loss: 1.3616 - val_accuracy: 0.5400\n",
      "\n",
      "Epoch 00004: val_loss did not improve from 1.24353\n",
      "Epoch 5/25\n",
      "37/37 [==============================] - 47s 1s/step - loss: 1.0370 - accuracy: 0.6943 - val_loss: 1.3299 - val_accuracy: 0.5600\n",
      "\n",
      "Epoch 00005: val_loss did not improve from 1.24353\n",
      "Epoch 6/25\n",
      "37/37 [==============================] - 47s 1s/step - loss: 1.0024 - accuracy: 0.6900 - val_loss: 1.2068 - val_accuracy: 0.6600\n",
      "\n",
      "Epoch 00006: val_loss improved from 1.24353 to 1.20677, saving model to flower_clf_vgg16_64.h5\n",
      "Epoch 7/25\n",
      "37/37 [==============================] - 48s 1s/step - loss: 1.0076 - accuracy: 0.6753 - val_loss: 1.3308 - val_accuracy: 0.5600\n",
      "\n",
      "Epoch 00007: val_loss did not improve from 1.20677\n",
      "Epoch 8/25\n",
      "37/37 [==============================] - 55s 2s/step - loss: 0.9884 - accuracy: 0.6917 - val_loss: 1.2621 - val_accuracy: 0.6000\n",
      "\n",
      "Epoch 00008: val_loss did not improve from 1.20677\n",
      "Epoch 9/25\n",
      "37/37 [==============================] - 54s 1s/step - loss: 0.9531 - accuracy: 0.7133 - val_loss: 1.2684 - val_accuracy: 0.5800\n",
      "\n",
      "Epoch 00009: val_loss did not improve from 1.20677\n",
      "Restoring model weights from the end of the best epoch.\n",
      "\n",
      "Epoch 00009: ReduceLROnPlateau reducing learning rate to 1.9999999494757503e-05.\n",
      "Epoch 00009: early stopping\n"
     ]
    }
   ],
   "source": [
    "from tensorflow.keras.callbacks import ModelCheckpoint, EarlyStopping, ReduceLROnPlateau\n",
    "\n",
    "checkpoint = ModelCheckpoint(\"flower_clf_vgg16_64.h5\",\n",
    "                             monitor = \"val_loss\",\n",
    "                             mode = \"min\",\n",
    "                             save_best_only = True,\n",
    "                             verbose = 1)\n",
    "\n",
    "earlystop = EarlyStopping(monitor = \"val_loss\",\n",
    "                          min_delta = 0,\n",
    "                          patience = 3,\n",
    "                          verbose = 1,\n",
    "                          restore_best_weights = True)\n",
    "\n",
    "reduce_lr = ReduceLROnPlateau(monitor = \"val_loss\",\n",
    "                              factor = 0.2,\n",
    "                              patience = 3,\n",
    "                              verbose = 1,\n",
    "                              min_delta = 0.00001)\n",
    "\n",
    "callbacks = [checkpoint, earlystop, reduce_lr]\n",
    "\n",
    "\n",
    "model.compile(loss = \"categorical_crossentropy\",\n",
    "              optimizer = RMSprop(lr = 0.0001),\n",
    "              metrics = [\"accuracy\"])\n",
    "\n",
    "nb_train_samples = 1190\n",
    "nb_val_samples = 170\n",
    "epochs = 25\n",
    "batch_size = 32\n",
    "\n",
    "history = model.fit_generator(train_generator,\n",
    "                              steps_per_epoch = nb_train_samples//batch_size,\n",
    "                              epochs = epochs,\n",
    "                              callbacks = callbacks,\n",
    "                              validation_data = validation_generator,\n",
    "                              validation_steps = nb_val_samples//batch_size)\n",
    "\n",
    "model.save(\"flower_clf_vgg16_64.h5\")"
   ]
  },
  {
   "cell_type": "markdown",
   "id": "e23de772",
   "metadata": {},
   "source": [
    "# Plotting the Accuracy and loss"
   ]
  },
  {
   "cell_type": "code",
   "execution_count": 14,
   "id": "a35a69ba",
   "metadata": {},
   "outputs": [
    {
     "data": {
      "image/png": "[encoded data removed]",
      "text/plain": [
       "<Figure size 432x288 with 1 Axes>"
      ]
     },
     "metadata": {
      "needs_background": "light"
     },
     "output_type": "display_data"
    }
   ],
   "source": [
    "##plotting the loss Chart\n",
    "\n",
    "import matplotlib.pyplot as plt\n",
    "import numpy as np\n",
    "\n",
    "history_dict = history.history\n",
    "\n",
    "loss_values = history_dict[\"loss\"]\n",
    "val_loss_values = history_dict[\"val_loss\"]\n",
    "\n",
    "epochs = range(1, len(loss_values)+1)\n",
    "\n",
    "line1 = plt.plot(epochs, loss_values, label = \"Training loss\")\n",
    "line2 = plt.plot(epochs, val_loss_values, label = \"Test loss\")\n",
    "\n",
    "plt.setp(line1, linewidth = 2.0, marker = \"o\", markersize = 10.0)\n",
    "plt.setp(line2, linewidth = 2.0, marker = \"*\", markersize = 10.0)\n",
    "plt.xlabel(\"Epochs\")\n",
    "plt.ylabel(\"Loss\")\n",
    "plt.grid(\"True\")\n",
    "plt.legend()\n",
    "plt.show()"
   ]
  },
  {
   "cell_type": "code",
   "execution_count": 15,
   "id": "33019c90",
   "metadata": {},
   "outputs": [
    {
     "data": {
      "image/png": "[encoded data removed]",
      "text/plain": [
       "<Figure size 432x288 with 1 Axes>"
      ]
     },
     "metadata": {
      "needs_background": "light"
     },
     "output_type": "display_data"
    }
   ],
   "source": [
    "#plotting Accuracy\n",
    "\n",
    "acc_values = history_dict[\"accuracy\"]\n",
    "val_acc_values = history_dict[\"val_accuracy\"]\n",
    "\n",
    "epochs = range(1,len(acc_values)+1)\n",
    "\n",
    "line1 = plt.plot(epochs, acc_values, label = \"Training Accuracy\")\n",
    "line2 = plt.plot(epochs, val_acc_values, label = \"Testing Accuracy\")\n",
    "\n",
    "plt.setp(line1, linewidth = 2, marker = \"*\", markersize = 10)\n",
    "plt.setp(line2, linewidth = 2, marker = \"o\", markersize = 10)\n",
    "plt.title(\"Accuracy\",fontsize = 18)\n",
    "plt.xlabel(\"Epochs\")\n",
    "plt.ylabel(\"Accuracy\")\n",
    "plt.grid(True)\n",
    "plt.legend()\n",
    "plt.show()"
   ]
  },
  {
   "cell_type": "markdown",
   "id": "8469c39a",
   "metadata": {},
   "source": [
    "# Confusion Matrix and Classification Report"
   ]
  },
  {
   "cell_type": "code",
   "execution_count": 16,
   "id": "e8e01b77",
   "metadata": {},
   "outputs": [],
   "source": [
    "from sklearn.metrics import confusion_matrix, classification_report"
   ]
  },
  {
   "cell_type": "code",
   "execution_count": 23,
   "id": "a1a88539",
   "metadata": {},
   "outputs": [
    {
     "name": "stdout",
     "output_type": "stream",
     "text": [
      "WARNING:tensorflow:Your input ran out of data; interrupting training. Make sure that your dataset or generator can generate at least `steps_per_epoch * epochs` batches (in this case, 18 batches). You may need to use the repeat() function when building your dataset.\n",
      "Confusion Matrix\n",
      "[[5 0 0 0 3 0 0 0 2 0 0 0 0 0 0 0 0]\n",
      " [0 9 0 0 0 0 0 0 1 0 0 0 0 0 0 0 0]\n",
      " [0 0 7 0 0 0 0 2 0 0 0 0 0 1 0 0 0]\n",
      " [1 0 2 5 0 0 0 0 0 0 0 0 0 0 1 0 1]\n",
      " [2 0 1 0 7 0 0 0 0 0 0 0 0 0 0 0 0]\n",
      " [1 3 1 0 0 5 0 0 0 0 0 0 0 0 0 0 0]\n",
      " [0 0 0 0 0 0 9 0 0 0 0 0 0 1 0 0 0]\n",
      " [0 0 1 0 0 0 0 9 0 0 0 0 0 0 0 0 0]\n",
      " [0 0 0 0 1 0 0 0 9 0 0 0 0 0 0 0 0]\n",
      " [0 0 0 0 1 0 0 0 0 9 0 0 0 0 0 0 0]\n",
      " [0 2 0 0 0 0 0 0 0 2 4 0 1 0 0 0 1]\n",
      " [0 2 0 0 0 0 0 0 0 1 0 6 0 0 0 0 1]\n",
      " [0 0 0 0 0 0 0 0 1 0 1 0 8 0 0 0 0]\n",
      " [0 0 0 0 0 0 1 0 0 0 0 0 0 9 0 0 0]\n",
      " [0 0 0 0 0 2 0 0 0 0 0 0 0 0 7 1 0]\n",
      " [1 0 0 2 0 2 0 1 0 0 0 0 0 0 1 2 1]\n",
      " [0 0 0 0 0 0 0 0 0 0 0 2 0 0 0 0 8]]\n",
      "Classification Report\n",
      "              precision    recall  f1-score   support\n",
      "\n",
      "           0       0.50      0.50      0.50        10\n",
      "           1       0.56      0.90      0.69        10\n",
      "           2       0.58      0.70      0.64        10\n",
      "           3       0.71      0.50      0.59        10\n",
      "           4       0.58      0.70      0.64        10\n",
      "           5       0.56      0.50      0.53        10\n",
      "           6       0.90      0.90      0.90        10\n",
      "           7       0.75      0.90      0.82        10\n",
      "           8       0.69      0.90      0.78        10\n",
      "           9       0.75      0.90      0.82        10\n",
      "          10       0.80      0.40      0.53        10\n",
      "          11       0.75      0.60      0.67        10\n",
      "          12       0.89      0.80      0.84        10\n",
      "          13       0.82      0.90      0.86        10\n",
      "          14       0.78      0.70      0.74        10\n",
      "          15       0.67      0.20      0.31        10\n",
      "          16       0.67      0.80      0.73        10\n",
      "\n",
      "    accuracy                           0.69       170\n",
      "   macro avg       0.70      0.69      0.68       170\n",
      "weighted avg       0.70      0.69      0.68       170\n",
      "\n"
     ]
    }
   ],
   "source": [
    "batch_size = 10\n",
    "\n",
    "\n",
    "Y_pred = model.predict_generator(validation_generator, nb_val_samples//batch_size+1)\n",
    "y_pred = np.argmax(Y_pred, axis = 1)\n",
    "\n",
    "print(\"Confusion Matrix\")\n",
    "print(confusion_matrix(validation_generator.classes, y_pred))\n",
    "\n",
    "print(\"Classification Report\")\n",
    "#target_names = list(class_labels.values())\n",
    "print(classification_report(validation_generator.classes, y_pred))"
   ]
  },
  {
   "cell_type": "code",
   "execution_count": null,
   "id": "6e2c0f73",
   "metadata": {},
   "outputs": [],
   "source": []
  }
 ],
 "metadata": {
  "kernelspec": {
   "display_name": "robin",
   "language": "python",
   "name": "robin"
  },
  "language_info": {
   "codemirror_mode": {
    "name": "ipython",
    "version": 3
   },
   "file_extension": ".py",
   "mimetype": "text/x-python",
   "name": "python",
   "nbconvert_exporter": "python",
   "pygments_lexer": "ipython3",
   "version": "3.7.11"
  }
 },
 "nbformat": 4,
 "nbformat_minor": 5
}
