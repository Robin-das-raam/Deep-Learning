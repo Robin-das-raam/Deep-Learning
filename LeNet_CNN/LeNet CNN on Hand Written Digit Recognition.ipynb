{
 "cells": [
  {
   "cell_type": "markdown",
   "id": "aa062f8d",
   "metadata": {},
   "source": [
    "# LeNet CNN on MNIST"
   ]
  },
  {
   "cell_type": "code",
   "execution_count": null,
   "id": "e2f9c52a",
   "metadata": {},
   "outputs": [],
   "source": []
  },
  {
   "cell_type": "code",
   "execution_count": 5,
   "id": "f4f9ff86",
   "metadata": {},
   "outputs": [],
   "source": [
    "import numpy as np\n",
    "import matplotlib.pyplot as plt\n",
    "import cv2\n",
    "import warnings\n",
    "warnings.filterwarnings(\"ignore\")"
   ]
  },
  {
   "cell_type": "code",
   "execution_count": 12,
   "id": "d29d238a",
   "metadata": {},
   "outputs": [],
   "source": [
    "from tensorflow.keras.datasets import mnist\n",
    "\n",
    "(X_train, y_train), (X_test, y_test) = mnist.load_data()"
   ]
  },
  {
   "cell_type": "code",
   "execution_count": 3,
   "id": "881dfafc",
   "metadata": {},
   "outputs": [
    {
     "name": "stdout",
     "output_type": "stream",
     "text": [
      "Initial shape of Data (60000, 28, 28)\n",
      "Number of samples in trainig data : 60000\n",
      "Number of samples in test data : 10000\n",
      "Dimension of X_train : (28, 28)\n",
      "Dimension of X_test : (28, 28)\n"
     ]
    }
   ],
   "source": [
    "print(\"Initial shape of Data\",(X_train.shape))\n",
    "print(\"Number of samples in trainig data : \" + str(len(X_train)))\n",
    "print(\"Number of samples in test data : \" + str(len(X_test)))\n",
    "\n",
    "print(\"Dimension of X_train : \" + str(X_train[0].shape))\n",
    "print(\"Dimension of X_test : \" +str(X_test[0].shape))"
   ]
  },
  {
   "cell_type": "code",
   "execution_count": 7,
   "id": "cf47359f",
   "metadata": {},
   "outputs": [],
   "source": [
    "# Visualize some data using OpenCV\n",
    "\n",
    "import cv2\n",
    "\n",
    "for i in range(0,6):\n",
    "    ran_num = np.random.randint(0, len(X_train))\n",
    "    img = X_train[ran_num]\n",
    "    window_name = \"Input image\" + str(i)\n",
    "    cv2.imshow(window_name,img)\n",
    "    cv2.waitKey(0)\n",
    "    \n",
    "cv2.destroyAllWindows()"
   ]
  },
  {
   "cell_type": "code",
   "execution_count": 5,
   "id": "b9eb1dcf",
   "metadata": {},
   "outputs": [
    {
     "data": {
      "image/png": "[encoded data removed]",
      "text/plain": [
       "<Figure size 432x288 with 9 Axes>"
      ]
     },
     "metadata": {
      "needs_background": "light"
     },
     "output_type": "display_data"
    }
   ],
   "source": [
    "# Visualize some data using Matplotlib\n",
    "\n",
    "for i in range(0,9):\n",
    "    plt.subplot(331 + i)\n",
    "    plt.imshow(X_train[i], cmap = plt.get_cmap(\"gray\"))\n",
    "    \n",
    "plt.show()"
   ]
  },
  {
   "cell_type": "markdown",
   "id": "e8934f8e",
   "metadata": {},
   "source": [
    "# Preparaing Dataset for training"
   ]
  },
  {
   "cell_type": "code",
   "execution_count": 6,
   "id": "a1ff2f8a",
   "metadata": {},
   "outputs": [
    {
     "name": "stdout",
     "output_type": "stream",
     "text": [
      "(60000, 28, 28)\n",
      "28\n"
     ]
    }
   ],
   "source": [
    "print(X_train.shape)\n",
    "print(X_train[0].shape[0])"
   ]
  },
  {
   "cell_type": "code",
   "execution_count": 13,
   "id": "259e4834",
   "metadata": {},
   "outputs": [
    {
     "name": "stdout",
     "output_type": "stream",
     "text": [
      "input_shape (28, 28, 1)\n"
     ]
    }
   ],
   "source": [
    "img_rows = X_train[0].shape[0]\n",
    "img_cols = X_train[1].shape[0]\n",
    "\n",
    "\n",
    "#reshape the data into(60000, 28,28,1)\n",
    "\n",
    "X_train = X_train.reshape(X_train.shape[0], img_rows, img_cols, 1)\n",
    "X_test = X_test.reshape(X_test.shape[0], img_rows, img_cols,1)\n",
    "\n",
    "input_shape = (img_rows, img_cols, 1)\n",
    "\n",
    "print(\"input_shape\", input_shape)"
   ]
  },
  {
   "cell_type": "code",
   "execution_count": 14,
   "id": "1c140d17",
   "metadata": {},
   "outputs": [
    {
     "name": "stdout",
     "output_type": "stream",
     "text": [
      "(60000, 28, 28, 1)\n",
      "(10000, 28, 28, 1)\n"
     ]
    }
   ],
   "source": [
    "# Change the imgae data type into float type\n",
    "\n",
    "X_train = X_train.astype(\"float32\")\n",
    "X_test = X_test.astype(\"float32\")\n",
    "\n",
    "# Nomalize the data \n",
    "\n",
    "X_train /= 255.0\n",
    "X_test /= 255.0\n",
    "\n",
    "print(X_train.shape)\n",
    "print(X_test.shape)"
   ]
  },
  {
   "cell_type": "code",
   "execution_count": 15,
   "id": "d503e00c",
   "metadata": {},
   "outputs": [],
   "source": [
    "#one Hot encode \n",
    "\n",
    "from tensorflow.keras.utils import to_categorical\n",
    "\n",
    "y_train = to_categorical(y_train)\n",
    "y_test = to_categorical(y_test)\n"
   ]
  },
  {
   "cell_type": "code",
   "execution_count": 16,
   "id": "50a114b5",
   "metadata": {},
   "outputs": [
    {
     "name": "stdout",
     "output_type": "stream",
     "text": [
      "(60000, 10)\n",
      "(10000, 10)\n"
     ]
    }
   ],
   "source": [
    "print(y_train.shape)\n",
    "print(y_test.shape)"
   ]
  },
  {
   "cell_type": "code",
   "execution_count": 44,
   "id": "22b022a6",
   "metadata": {},
   "outputs": [
    {
     "name": "stdout",
     "output_type": "stream",
     "text": [
      "10\n"
     ]
    },
    {
     "data": {
      "text/plain": [
       "array([[1., 0.],\n",
       "       [1., 0.],\n",
       "       [1., 0.],\n",
       "       [1., 0.],\n",
       "       [1., 0.],\n",
       "       [0., 1.],\n",
       "       [1., 0.],\n",
       "       [1., 0.],\n",
       "       [1., 0.],\n",
       "       [1., 0.]], dtype=float32)"
      ]
     },
     "execution_count": 44,
     "metadata": {},
     "output_type": "execute_result"
    }
   ],
   "source": [
    "print(y_test.shape[1])\n",
    "\n",
    "y_train[0]"
   ]
  },
  {
   "cell_type": "code",
   "execution_count": 12,
   "id": "72f079e0",
   "metadata": {},
   "outputs": [],
   "source": [
    "num_classes = 10\n",
    "num_pixels = 784"
   ]
  },
  {
   "cell_type": "markdown",
   "id": "2a41dd46",
   "metadata": {},
   "source": [
    "# Create the LeNet CNN"
   ]
  },
  {
   "cell_type": "code",
   "execution_count": 15,
   "id": "35f1b416",
   "metadata": {},
   "outputs": [
    {
     "name": "stdout",
     "output_type": "stream",
     "text": [
      "Model: \"sequential_1\"\n",
      "_________________________________________________________________\n",
      "Layer (type)                 Output Shape              Param #   \n",
      "=================================================================\n",
      "conv2d_2 (Conv2D)            (None, 28, 28, 20)        520       \n",
      "_________________________________________________________________\n",
      "activation_4 (Activation)    (None, 28, 28, 20)        0         \n",
      "_________________________________________________________________\n",
      "max_pooling2d_2 (MaxPooling2 (None, 14, 14, 20)        0         \n",
      "_________________________________________________________________\n",
      "conv2d_3 (Conv2D)            (None, 14, 14, 50)        25050     \n",
      "_________________________________________________________________\n",
      "activation_5 (Activation)    (None, 14, 14, 50)        0         \n",
      "_________________________________________________________________\n",
      "max_pooling2d_3 (MaxPooling2 (None, 7, 7, 50)          0         \n",
      "_________________________________________________________________\n",
      "flatten_1 (Flatten)          (None, 2450)              0         \n",
      "_________________________________________________________________\n",
      "dense_2 (Dense)              (None, 500)               1225500   \n",
      "_________________________________________________________________\n",
      "activation_6 (Activation)    (None, 500)               0         \n",
      "_________________________________________________________________\n",
      "dense_3 (Dense)              (None, 10)                5010      \n",
      "_________________________________________________________________\n",
      "activation_7 (Activation)    (None, 10)                0         \n",
      "=================================================================\n",
      "Total params: 1,256,080\n",
      "Trainable params: 1,256,080\n",
      "Non-trainable params: 0\n",
      "_________________________________________________________________\n",
      "None\n"
     ]
    }
   ],
   "source": [
    "import tensorflow\n",
    "from tensorflow.keras.models import Sequential\n",
    "from tensorflow.keras.layers import Dense, Dropout, Flatten, Activation\n",
    "from tensorflow.keras.layers import Conv2D, MaxPooling2D\n",
    "from tensorflow.keras.optimizers import SGD\n",
    "from tensorflow.keras import backend as K\n",
    "\n",
    "\n",
    "model = Sequential()\n",
    "\n",
    "model.add(Conv2D(20, (5,5),\n",
    "                 padding = \"same\",\n",
    "                 input_shape = input_shape))\n",
    "\n",
    "model.add(Activation(\"relu\"))\n",
    "model.add(MaxPooling2D(pool_size = (2,2), strides = (2,2)))\n",
    "\n",
    "model.add(Conv2D(50,(5,5),\n",
    "                 padding = \"same\"))\n",
    "\n",
    "model.add(Activation(\"relu\"))\n",
    "model.add(MaxPooling2D(pool_size = (2,2), strides = (2,2)))\n",
    "\n",
    "#Fully Connected Layers\n",
    "model.add(Flatten())\n",
    "model.add(Dense(500))\n",
    "model.add(Activation(\"relu\"))\n",
    "\n",
    "# Softmax for classification\n",
    "\n",
    "model.add(Dense(num_classes))\n",
    "model.add(Activation(\"softmax\"))\n",
    "\n",
    "model.compile(loss = \"categorical_crossentropy\",\n",
    "              optimizer = tensorflow.keras.optimizers.Adadelta(),\n",
    "              metrics = [\"accuracy\"])\n",
    "\n",
    "print(model.summary())"
   ]
  },
  {
   "cell_type": "markdown",
   "id": "c2e3cb87",
   "metadata": {},
   "source": [
    "# Train LeNet on MNIST"
   ]
  },
  {
   "cell_type": "code",
   "execution_count": 16,
   "id": "e93b5be6",
   "metadata": {},
   "outputs": [
    {
     "name": "stderr",
     "output_type": "stream",
     "text": [
      "2021-09-15 03:09:54.299739: W tensorflow/core/framework/cpu_allocator_impl.cc:80] Allocation of 188160000 exceeds 10% of free system memory.\n"
     ]
    },
    {
     "name": "stdout",
     "output_type": "stream",
     "text": [
      "Epoch 1/10\n"
     ]
    },
    {
     "name": "stderr",
     "output_type": "stream",
     "text": [
      "2021-09-15 03:09:56.829166: W tensorflow/core/framework/cpu_allocator_impl.cc:80] Allocation of 23520000 exceeds 10% of free system memory.\n",
      "2021-09-15 03:09:56.829402: W tensorflow/core/framework/cpu_allocator_impl.cc:80] Allocation of 23520000 exceeds 10% of free system memory.\n",
      "2021-09-15 03:09:56.880974: W tensorflow/core/framework/cpu_allocator_impl.cc:80] Allocation of 17248000 exceeds 10% of free system memory.\n"
     ]
    },
    {
     "name": "stdout",
     "output_type": "stream",
     "text": [
      "469/469 [==============================] - 80s 166ms/step - loss: 2.2920 - accuracy: 0.1807 - val_loss: 2.2723 - val_accuracy: 0.2545\n",
      "Epoch 2/10\n",
      "469/469 [==============================] - 73s 155ms/step - loss: 2.2527 - accuracy: 0.3097 - val_loss: 2.2311 - val_accuracy: 0.3587\n",
      "Epoch 3/10\n",
      "469/469 [==============================] - 73s 155ms/step - loss: 2.2082 - accuracy: 0.4333 - val_loss: 2.1813 - val_accuracy: 0.5075\n",
      "Epoch 4/10\n",
      "469/469 [==============================] - 78s 166ms/step - loss: 2.1510 - accuracy: 0.5651 - val_loss: 2.1139 - val_accuracy: 0.6279\n",
      "Epoch 5/10\n",
      "469/469 [==============================] - 78s 166ms/step - loss: 2.0708 - accuracy: 0.6612 - val_loss: 2.0163 - val_accuracy: 0.6944\n",
      "Epoch 6/10\n",
      "469/469 [==============================] - 80s 172ms/step - loss: 1.9536 - accuracy: 0.7110 - val_loss: 1.8736 - val_accuracy: 0.7374\n",
      "Epoch 7/10\n",
      "469/469 [==============================] - 83s 176ms/step - loss: 1.7871 - accuracy: 0.7416 - val_loss: 1.6770 - val_accuracy: 0.7657\n",
      "Epoch 8/10\n",
      "469/469 [==============================] - 80s 169ms/step - loss: 1.5696 - accuracy: 0.7647 - val_loss: 1.4351 - val_accuracy: 0.7873\n",
      "Epoch 9/10\n",
      "469/469 [==============================] - 78s 165ms/step - loss: 1.3249 - accuracy: 0.7864 - val_loss: 1.1880 - val_accuracy: 0.8108\n",
      "Epoch 10/10\n",
      "469/469 [==============================] - 85s 180ms/step - loss: 1.0999 - accuracy: 0.8056 - val_loss: 0.9825 - val_accuracy: 0.8282\n",
      "313/313 [==============================] - 4s 13ms/step - loss: 0.9825 - accuracy: 0.8282\n",
      "Test Loss 0.9824700951576233\n",
      "Test Accuracy 0.8281999826431274\n"
     ]
    }
   ],
   "source": [
    "batch_size = 128\n",
    "epochs = 10\n",
    "\n",
    "history = model.fit(X_train,y_train,\n",
    "                    batch_size = batch_size,\n",
    "                    epochs = epochs,\n",
    "                    validation_data = (X_test, y_test),\n",
    "                    verbose = 1,\n",
    "                    shuffle = True)\n",
    "\n",
    "model.save(\"LeNet_CNN_MNIST.h5\")\n",
    "\n",
    "#Evaluate the train model\n",
    "\n",
    "scores = model.evaluate(X_test, y_test, verbose = 1)\n",
    "\n",
    "print(\"Test Loss\", scores[0])\n",
    "print(\"Test Accuracy\", scores[1])"
   ]
  },
  {
   "cell_type": "code",
   "execution_count": 17,
   "id": "65f1db11",
   "metadata": {},
   "outputs": [],
   "source": [
    "import pickle\n",
    "\n",
    "pickle_out = open(\"LeNet_clf_history.pickle\",\"wb\")\n",
    "pickle.dump(history.history, pickle_out)\n",
    "pickle_out.close()"
   ]
  },
  {
   "cell_type": "code",
   "execution_count": 2,
   "id": "24bcb6c9",
   "metadata": {},
   "outputs": [
    {
     "name": "stdout",
     "output_type": "stream",
     "text": [
      "{'loss': [2.2919609546661377, 2.252728223800659, 2.2081942558288574, 2.1510066986083984, 2.0708260536193848, 1.9536043405532837, 1.787064790725708, 1.5695700645446777, 1.3249173164367676, 1.0999475717544556], 'accuracy': [0.18068332970142365, 0.3096500039100647, 0.4333166778087616, 0.5650666952133179, 0.661216676235199, 0.7110166549682617, 0.741599977016449, 0.7646833062171936, 0.7864000201225281, 0.8055833578109741], 'val_loss': [2.272313117980957, 2.231109857559204, 2.1813347339630127, 2.113858222961426, 2.0163207054138184, 1.87360680103302, 1.6770050525665283, 1.4350643157958984, 1.1880474090576172, 0.9824703931808472], 'val_accuracy': [0.25450000166893005, 0.3587000072002411, 0.5074999928474426, 0.6279000043869019, 0.6944000124931335, 0.7373999953269958, 0.7656999826431274, 0.7872999906539917, 0.8108000159263611, 0.8281999826431274]}\n"
     ]
    }
   ],
   "source": [
    "import pickle\n",
    "pickle_in = open(\"LeNet_clf_history.pickle\",\"rb\")\n",
    "save_history = pickle.load((pickle_in))\n",
    "print(save_history)"
   ]
  },
  {
   "cell_type": "code",
   "execution_count": 4,
   "id": "b0e11f71",
   "metadata": {},
   "outputs": [
    {
     "data": {
      "text/plain": [
       "{'loss': [2.2919609546661377,\n",
       "  2.252728223800659,\n",
       "  2.2081942558288574,\n",
       "  2.1510066986083984,\n",
       "  2.0708260536193848,\n",
       "  1.9536043405532837,\n",
       "  1.787064790725708,\n",
       "  1.5695700645446777,\n",
       "  1.3249173164367676,\n",
       "  1.0999475717544556],\n",
       " 'accuracy': [0.18068332970142365,\n",
       "  0.3096500039100647,\n",
       "  0.4333166778087616,\n",
       "  0.5650666952133179,\n",
       "  0.661216676235199,\n",
       "  0.7110166549682617,\n",
       "  0.741599977016449,\n",
       "  0.7646833062171936,\n",
       "  0.7864000201225281,\n",
       "  0.8055833578109741],\n",
       " 'val_loss': [2.272313117980957,\n",
       "  2.231109857559204,\n",
       "  2.1813347339630127,\n",
       "  2.113858222961426,\n",
       "  2.0163207054138184,\n",
       "  1.87360680103302,\n",
       "  1.6770050525665283,\n",
       "  1.4350643157958984,\n",
       "  1.1880474090576172,\n",
       "  0.9824703931808472],\n",
       " 'val_accuracy': [0.25450000166893005,\n",
       "  0.3587000072002411,\n",
       "  0.5074999928474426,\n",
       "  0.6279000043869019,\n",
       "  0.6944000124931335,\n",
       "  0.7373999953269958,\n",
       "  0.7656999826431274,\n",
       "  0.7872999906539917,\n",
       "  0.8108000159263611,\n",
       "  0.8281999826431274]}"
      ]
     },
     "execution_count": 4,
     "metadata": {},
     "output_type": "execute_result"
    }
   ],
   "source": [
    "save_history"
   ]
  },
  {
   "cell_type": "markdown",
   "id": "380ee285",
   "metadata": {},
   "source": [
    "# Plotting Accuracy and Loss"
   ]
  },
  {
   "cell_type": "code",
   "execution_count": 7,
   "id": "d2e53bb7",
   "metadata": {},
   "outputs": [
    {
     "data": {
      "image/png": "[encoded data removed]",
      "text/plain": [
       "<Figure size 432x288 with 1 Axes>"
      ]
     },
     "metadata": {
      "needs_background": "light"
     },
     "output_type": "display_data"
    }
   ],
   "source": [
    "## plotting Loss Chart\n",
    "\n",
    "loss_values = save_history[\"loss\"]\n",
    "val_loss_values = save_history[\"val_loss\"]\n",
    "\n",
    "epochs = range(1, len(loss_values)+1)\n",
    "\n",
    "line1 = plt.plot(epochs, loss_values, label= \"Training Loss\")\n",
    "line2 = plt.plot(epochs, val_loss_values, label = \"Test Loss\")\n",
    "\n",
    "plt.setp(line1,linewidth = 2.0, marker = \"*\", markersize = 10.0)\n",
    "plt.setp(line2,linewidth = 2.0, marker = \"o\", markersize = 10.0)\n",
    "plt.xlabel(\"Epochs\")\n",
    "plt.ylabel(\"Loss\")\n",
    "plt.grid(True)\n",
    "plt.legend()\n",
    "plt.show()"
   ]
  },
  {
   "cell_type": "code",
   "execution_count": 8,
   "id": "4a932855",
   "metadata": {},
   "outputs": [
    {
     "data": {
      "image/png": "[encoded data removed]",
      "text/plain": [
       "<Figure size 432x288 with 1 Axes>"
      ]
     },
     "metadata": {
      "needs_background": "light"
     },
     "output_type": "display_data"
    }
   ],
   "source": [
    "# plotting Accuracy\n",
    "\n",
    "acc = save_history[\"accuracy\"]\n",
    "val_acc = save_history[\"val_accuracy\"]\n",
    "\n",
    "epochs = range(1, len(acc)+1)\n",
    "\n",
    "line1 = plt.plot(epochs, acc, label = \"Training Accuracy\")\n",
    "line2 = plt.plot(epochs, val_acc, label = \"Test Accuracy\")\n",
    "\n",
    "plt.setp(line1, linewidth = 2.0, marker = \"*\", markersize = 10.0)\n",
    "plt.setp(line2 , linewidth = 2.0, marker = \"o\", markersize = 10.0)\n",
    "plt.xlabel(\"Epochs\")\n",
    "plt.ylabel(\"Accuracy\")\n",
    "plt.grid(True)\n",
    "plt.legend()\n",
    "plt.show()"
   ]
  },
  {
   "cell_type": "code",
   "execution_count": 10,
   "id": "30ecaafb",
   "metadata": {},
   "outputs": [],
   "source": [
    "#Load our model\n",
    "\n",
    "from tensorflow.keras.models import load_model\n",
    "\n",
    "classifier = load_model(\"LeNet_CNN_MNIST.h5\")"
   ]
  },
  {
   "cell_type": "markdown",
   "id": "1621f90c",
   "metadata": {},
   "source": [
    "# Testing the Classifier"
   ]
  },
  {
   "cell_type": "code",
   "execution_count": 17,
   "id": "3565b9a5",
   "metadata": {},
   "outputs": [
    {
     "name": "stderr",
     "output_type": "stream",
     "text": [
      "2021-09-16 02:28:36.620522: I tensorflow/compiler/mlir/mlir_graph_optimization_pass.cc:176] None of the MLIR Optimization Passes are enabled (registered 2)\n",
      "2021-09-16 02:28:36.691825: I tensorflow/core/platform/profile_utils/cpu_utils.cc:114] CPU Frequency: 2194740000 Hz\n"
     ]
    }
   ],
   "source": [
    "import numpy as np\n",
    "import cv2\n",
    "\n",
    "def draw_test(name, pred, input_im):\n",
    "    BLACK = [0,0,0]\n",
    "    expanded_img = cv2.copyMakeBorder(input_im ,0,0,0,imageL.shape[0], cv2.BORDER_CONSTANT, value = BLACK)\n",
    "    expanded_img = cv2.cvtColor(expanded_img, cv2.COLOR_GRAY2BGR)\n",
    "    cv2.putText(expanded_img, str(pred),(120,70),cv2.FONT_HERSHEY_COMPLEX_SMALL,4,(0,222,0),4)\n",
    "    cv2.imshow(name, expanded_img)\n",
    "    \n",
    "\n",
    "for i in range(0,10):\n",
    "    num = np.random.randint(0,len(X_test))\n",
    "    input_im = X_test[num]\n",
    "    \n",
    "    imageL = cv2.resize(input_im , None,fx = 4, fy = 4, interpolation = cv2.INTER_CUBIC)\n",
    "    input_im = input_im.reshape(1,28,28,1)\n",
    "    \n",
    "    #prediction \n",
    "    \n",
    "    res = str(classifier.predict_classes(input_im, 1,verbose = 0)[0])\n",
    "    \n",
    "    draw_test(\"prediction\",res,imageL)\n",
    "    cv2.waitKey(0)\n",
    "    \n",
    "cv2.destroyAllWindows()"
   ]
  },
  {
   "cell_type": "code",
   "execution_count": null,
   "id": "bf85f6a6",
   "metadata": {},
   "outputs": [],
   "source": []
  }
 ],
 "metadata": {
  "kernelspec": {
   "display_name": "robin",
   "language": "python",
   "name": "robin"
  },
  "language_info": {
   "codemirror_mode": {
    "name": "ipython",
    "version": 3
   },
   "file_extension": ".py",
   "mimetype": "text/x-python",
   "name": "python",
   "nbconvert_exporter": "python",
   "pygments_lexer": "ipython3",
   "version": "3.7.11"
  }
 },
 "nbformat": 4,
 "nbformat_minor": 5
}
