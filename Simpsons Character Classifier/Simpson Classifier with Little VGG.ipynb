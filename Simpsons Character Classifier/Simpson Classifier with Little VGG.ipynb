{
 "cells": [
  {
   "cell_type": "markdown",
   "id": "96348dbf",
   "metadata": {},
   "source": [
    "# Simpsons Classifier With Little VGG"
   ]
  },
  {
   "cell_type": "code",
   "execution_count": null,
   "id": "8631e0f1",
   "metadata": {},
   "outputs": [],
   "source": []
  },
  {
   "cell_type": "markdown",
   "id": "349f5c43",
   "metadata": {},
   "source": [
    "## Importing Libraries"
   ]
  },
  {
   "cell_type": "code",
   "execution_count": 5,
   "id": "8c38225c",
   "metadata": {},
   "outputs": [],
   "source": [
    "import os\n",
    "import numpy as np\n",
    "import cv2\n",
    "import matplotlib.pyplot as plt\n",
    "\n",
    "import tensorflow\n",
    "from tensorflow.keras.preprocessing.image import ImageDataGenerator\n",
    "from tensorflow.keras.models import Sequential\n",
    "from tensorflow.keras.layers import Dense, Activation, Flatten,Dropout, BatchNormalization\n",
    "from tensorflow.keras.layers import Conv2D, MaxPooling2D\n",
    "from tensorflow.keras.layers import ELU"
   ]
  },
  {
   "cell_type": "code",
   "execution_count": 3,
   "id": "cd7b7f72",
   "metadata": {},
   "outputs": [
    {
     "name": "stdout",
     "output_type": "stream",
     "text": [
      "Found 19548 images belonging to 20 classes.\n",
      "Found 990 images belonging to 20 classes.\n"
     ]
    }
   ],
   "source": [
    "num_classes = 20\n",
    "img_rows = 32\n",
    "img_cols = 32\n",
    "batch_size = 16\n",
    "\n",
    "train_data_dir = \"./Classifier/simpsons/train\"\n",
    "val_data_dir = \"./Classifier/simpsons/validation\"\n",
    "\n",
    "#Lets use some data augmentation\n",
    "\n",
    "train_datagen = ImageDataGenerator(rescale = 1./255,\n",
    "                                   rotation_range = 20,\n",
    "                                   width_shift_range = 0.2,\n",
    "                                   height_shift_range = 0.2,\n",
    "                                   horizontal_flip = True,\n",
    "                                   fill_mode = \"nearest\")\n",
    "\n",
    "validation_datagen = ImageDataGenerator(rescale = 1./255)\n",
    "\n",
    "train_generator = train_datagen.flow_from_directory(train_data_dir,\n",
    "                                                    target_size = (img_rows, img_cols),\n",
    "                                                    batch_size = batch_size,\n",
    "                                                    class_mode = \"categorical\")\n",
    "\n",
    "validation_generator = validation_datagen.flow_from_directory(val_data_dir,\n",
    "                                                              target_size = (img_rows, img_cols),\n",
    "                                                              batch_size = batch_size,\n",
    "                                                              class_mode = \"categorical\")"
   ]
  },
  {
   "cell_type": "markdown",
   "id": "c8c09dea",
   "metadata": {},
   "source": [
    "# Create Little VGG Model"
   ]
  },
  {
   "cell_type": "code",
   "execution_count": 20,
   "id": "a7a6f927",
   "metadata": {},
   "outputs": [
    {
     "name": "stdout",
     "output_type": "stream",
     "text": [
      "Model: \"sequential_2\"\n",
      "_________________________________________________________________\n",
      "Layer (type)                 Output Shape              Param #   \n",
      "=================================================================\n",
      "conv2d_12 (Conv2D)           (None, 32, 32, 64)        1792      \n",
      "_________________________________________________________________\n",
      "activation_18 (Activation)   (None, 32, 32, 64)        0         \n",
      "_________________________________________________________________\n",
      "batch_normalization_16 (Batc (None, 32, 32, 64)        256       \n",
      "_________________________________________________________________\n",
      "conv2d_13 (Conv2D)           (None, 32, 32, 64)        36928     \n",
      "_________________________________________________________________\n",
      "activation_19 (Activation)   (None, 32, 32, 64)        0         \n",
      "_________________________________________________________________\n",
      "batch_normalization_17 (Batc (None, 32, 32, 64)        256       \n",
      "_________________________________________________________________\n",
      "max_pooling2d_6 (MaxPooling2 (None, 16, 16, 64)        0         \n",
      "_________________________________________________________________\n",
      "dropout_10 (Dropout)         (None, 16, 16, 64)        0         \n",
      "_________________________________________________________________\n",
      "conv2d_14 (Conv2D)           (None, 16, 16, 128)       73856     \n",
      "_________________________________________________________________\n",
      "activation_20 (Activation)   (None, 16, 16, 128)       0         \n",
      "_________________________________________________________________\n",
      "batch_normalization_18 (Batc (None, 16, 16, 128)       512       \n",
      "_________________________________________________________________\n",
      "conv2d_15 (Conv2D)           (None, 16, 16, 128)       147584    \n",
      "_________________________________________________________________\n",
      "activation_21 (Activation)   (None, 16, 16, 128)       0         \n",
      "_________________________________________________________________\n",
      "batch_normalization_19 (Batc (None, 16, 16, 128)       512       \n",
      "_________________________________________________________________\n",
      "max_pooling2d_7 (MaxPooling2 (None, 8, 8, 128)         0         \n",
      "_________________________________________________________________\n",
      "dropout_11 (Dropout)         (None, 8, 8, 128)         0         \n",
      "_________________________________________________________________\n",
      "conv2d_16 (Conv2D)           (None, 8, 8, 256)         295168    \n",
      "_________________________________________________________________\n",
      "activation_22 (Activation)   (None, 8, 8, 256)         0         \n",
      "_________________________________________________________________\n",
      "batch_normalization_20 (Batc (None, 8, 8, 256)         1024      \n",
      "_________________________________________________________________\n",
      "conv2d_17 (Conv2D)           (None, 8, 8, 256)         590080    \n",
      "_________________________________________________________________\n",
      "activation_23 (Activation)   (None, 8, 8, 256)         0         \n",
      "_________________________________________________________________\n",
      "batch_normalization_21 (Batc (None, 8, 8, 256)         1024      \n",
      "_________________________________________________________________\n",
      "max_pooling2d_8 (MaxPooling2 (None, 4, 4, 256)         0         \n",
      "_________________________________________________________________\n",
      "dropout_12 (Dropout)         (None, 4, 4, 256)         0         \n",
      "_________________________________________________________________\n",
      "flatten_2 (Flatten)          (None, 4096)              0         \n",
      "_________________________________________________________________\n",
      "dense_6 (Dense)              (None, 256)               1048832   \n",
      "_________________________________________________________________\n",
      "activation_24 (Activation)   (None, 256)               0         \n",
      "_________________________________________________________________\n",
      "batch_normalization_22 (Batc (None, 256)               1024      \n",
      "_________________________________________________________________\n",
      "dropout_13 (Dropout)         (None, 256)               0         \n",
      "_________________________________________________________________\n",
      "dense_7 (Dense)              (None, 256)               65792     \n",
      "_________________________________________________________________\n",
      "activation_25 (Activation)   (None, 256)               0         \n",
      "_________________________________________________________________\n",
      "batch_normalization_23 (Batc (None, 256)               1024      \n",
      "_________________________________________________________________\n",
      "dropout_14 (Dropout)         (None, 256)               0         \n",
      "_________________________________________________________________\n",
      "dense_8 (Dense)              (None, 20)                5140      \n",
      "_________________________________________________________________\n",
      "activation_26 (Activation)   (None, 20)                0         \n",
      "=================================================================\n",
      "Total params: 2,270,804\n",
      "Trainable params: 2,267,988\n",
      "Non-trainable params: 2,816\n",
      "_________________________________________________________________\n",
      "None\n"
     ]
    }
   ],
   "source": [
    "model = Sequential()\n",
    "\n",
    "#First Conv- Relu Layer\n",
    "\n",
    "model.add(Conv2D(64,(3,3),input_shape = (img_rows, img_cols, 3),padding = \"same\"))\n",
    "model.add(Activation(\"relu\"))\n",
    "model.add(BatchNormalization())\n",
    "\n",
    "#2nd Conv-Relu Layer\n",
    "\n",
    "model.add(Conv2D(64,(3,3),input_shape = (img_rows, img_cols, 3),padding = \"same\"))\n",
    "model.add(Activation(\"relu\"))\n",
    "model.add(BatchNormalization())\n",
    "\n",
    "#MaxPooling with Dropout\n",
    "model.add(MaxPooling2D(pool_size = (2,2)))\n",
    "model.add(Dropout(0.2))\n",
    "\n",
    "#3rd Conv-Relu \n",
    "model.add(Conv2D(128,(3,3),padding = \"same\"))\n",
    "model.add(Activation(\"relu\"))\n",
    "model.add(BatchNormalization())\n",
    "\n",
    "#4th Conv-Relu\n",
    "model.add(Conv2D(128,(3,3),padding = \"same\"))\n",
    "model.add(Activation(\"relu\"))\n",
    "model.add(BatchNormalization())\n",
    "\n",
    "#MaxPooling with Dropout\n",
    "model.add(MaxPooling2D(pool_size = (2,2)))\n",
    "model.add(Dropout(0.2))\n",
    "\n",
    "#5th Conv-Relu\n",
    "model.add(Conv2D(256,(3,3),padding = \"same\"))\n",
    "model.add(Activation(\"relu\"))\n",
    "model.add(BatchNormalization())\n",
    "\n",
    "#6th Conv-Relu\n",
    "model.add(Conv2D(256,(3,3),padding = \"same\"))\n",
    "model.add(Activation(\"relu\"))\n",
    "model.add(BatchNormalization())\n",
    "\n",
    "#MaxPooling with Dropout\n",
    "model.add(MaxPooling2D(pool_size = (2,2)))\n",
    "model.add(Dropout(0.2))\n",
    "\n",
    "#1st FC Layer\n",
    "model.add(Flatten())\n",
    "model.add(Dense(256))\n",
    "model.add(Activation(\"relu\"))\n",
    "model.add(BatchNormalization())\n",
    "model.add(Dropout(0.5))\n",
    "\n",
    "#2nd FC layer\n",
    "model.add(Dense(256))\n",
    "model.add(Activation(\"relu\"))\n",
    "model.add(BatchNormalization())\n",
    "model.add(Dropout(0.5))\n",
    "\n",
    "#Final Dense Layer\n",
    "model.add(Dense(num_classes))\n",
    "model.add(Activation(\"softmax\"))\n",
    "\n",
    "print(model.summary())"
   ]
  },
  {
   "cell_type": "code",
   "execution_count": 17,
   "id": "640f8f67",
   "metadata": {},
   "outputs": [],
   "source": [
    "from tensorflow.keras.utils import plot_model\n",
    "import matplotlib.image as mpimg"
   ]
  },
  {
   "cell_type": "code",
   "execution_count": 23,
   "id": "c7b8da4e",
   "metadata": {},
   "outputs": [
    {
     "name": "stdout",
     "output_type": "stream",
     "text": [
      "('You must install pydot (`pip install pydot`) and install graphviz (see instructions at https://graphviz.gitlab.io/download/) ', 'for plot_model/model_to_dot to work.')\n"
     ]
    },
    {
     "ename": "FileNotFoundError",
     "evalue": "[Errno 2] No such file or directory: 'little_vgg_cnn_model.png'",
     "output_type": "error",
     "traceback": [
      "\u001b[0;31m---------------------------------------------------------------------------\u001b[0m",
      "\u001b[0;31mFileNotFoundError\u001b[0m                         Traceback (most recent call last)",
      "\u001b[0;32m/tmp/ipykernel_28862/367892890.py\u001b[0m in \u001b[0;36m<module>\u001b[0;34m\u001b[0m\n\u001b[1;32m      5\u001b[0m            show_layer_names = True)\n\u001b[1;32m      6\u001b[0m \u001b[0;34m\u001b[0m\u001b[0m\n\u001b[0;32m----> 7\u001b[0;31m \u001b[0mimg\u001b[0m \u001b[0;34m=\u001b[0m \u001b[0mmpimg\u001b[0m\u001b[0;34m.\u001b[0m\u001b[0mimread\u001b[0m\u001b[0;34m(\u001b[0m\u001b[0;34m\"little_vgg_cnn_model.png\"\u001b[0m\u001b[0;34m)\u001b[0m\u001b[0;34m\u001b[0m\u001b[0;34m\u001b[0m\u001b[0m\n\u001b[0m\u001b[1;32m      8\u001b[0m \u001b[0mplt\u001b[0m\u001b[0;34m.\u001b[0m\u001b[0mfigure\u001b[0m\u001b[0;34m(\u001b[0m\u001b[0mfigsize\u001b[0m \u001b[0;34m=\u001b[0m \u001b[0;34m(\u001b[0m\u001b[0;36m30\u001b[0m\u001b[0;34m,\u001b[0m\u001b[0;36m15\u001b[0m\u001b[0;34m)\u001b[0m\u001b[0;34m)\u001b[0m\u001b[0;34m\u001b[0m\u001b[0;34m\u001b[0m\u001b[0m\n\u001b[1;32m      9\u001b[0m \u001b[0mimgplot\u001b[0m \u001b[0;34m=\u001b[0m \u001b[0mplt\u001b[0m\u001b[0;34m.\u001b[0m\u001b[0mimshow\u001b[0m\u001b[0;34m(\u001b[0m\u001b[0mimg\u001b[0m\u001b[0;34m)\u001b[0m\u001b[0;34m\u001b[0m\u001b[0;34m\u001b[0m\u001b[0m\n",
      "\u001b[0;32m~/anaconda3/envs/robin/lib/python3.7/site-packages/matplotlib/image.py\u001b[0m in \u001b[0;36mimread\u001b[0;34m(fname, format)\u001b[0m\n\u001b[1;32m   1499\u001b[0m                     \u001b[0mresponse\u001b[0m \u001b[0;34m=\u001b[0m \u001b[0mio\u001b[0m\u001b[0;34m.\u001b[0m\u001b[0mBytesIO\u001b[0m\u001b[0;34m(\u001b[0m\u001b[0mresponse\u001b[0m\u001b[0;34m.\u001b[0m\u001b[0mread\u001b[0m\u001b[0;34m(\u001b[0m\u001b[0;34m)\u001b[0m\u001b[0;34m)\u001b[0m\u001b[0;34m\u001b[0m\u001b[0;34m\u001b[0m\u001b[0m\n\u001b[1;32m   1500\u001b[0m                 \u001b[0;32mreturn\u001b[0m \u001b[0mimread\u001b[0m\u001b[0;34m(\u001b[0m\u001b[0mresponse\u001b[0m\u001b[0;34m,\u001b[0m \u001b[0mformat\u001b[0m\u001b[0;34m=\u001b[0m\u001b[0mext\u001b[0m\u001b[0;34m)\u001b[0m\u001b[0;34m\u001b[0m\u001b[0;34m\u001b[0m\u001b[0m\n\u001b[0;32m-> 1501\u001b[0;31m     \u001b[0;32mwith\u001b[0m \u001b[0mimg_open\u001b[0m\u001b[0;34m(\u001b[0m\u001b[0mfname\u001b[0m\u001b[0;34m)\u001b[0m \u001b[0;32mas\u001b[0m \u001b[0mimage\u001b[0m\u001b[0;34m:\u001b[0m\u001b[0;34m\u001b[0m\u001b[0;34m\u001b[0m\u001b[0m\n\u001b[0m\u001b[1;32m   1502\u001b[0m         return (_pil_png_to_float_array(image)\n\u001b[1;32m   1503\u001b[0m                 \u001b[0;32mif\u001b[0m \u001b[0misinstance\u001b[0m\u001b[0;34m(\u001b[0m\u001b[0mimage\u001b[0m\u001b[0;34m,\u001b[0m \u001b[0mPIL\u001b[0m\u001b[0;34m.\u001b[0m\u001b[0mPngImagePlugin\u001b[0m\u001b[0;34m.\u001b[0m\u001b[0mPngImageFile\u001b[0m\u001b[0;34m)\u001b[0m \u001b[0;32melse\u001b[0m\u001b[0;34m\u001b[0m\u001b[0;34m\u001b[0m\u001b[0m\n",
      "\u001b[0;32m~/anaconda3/envs/robin/lib/python3.7/site-packages/PIL/ImageFile.py\u001b[0m in \u001b[0;36m__init__\u001b[0;34m(self, fp, filename)\u001b[0m\n\u001b[1;32m    107\u001b[0m         \u001b[0;32mif\u001b[0m \u001b[0misPath\u001b[0m\u001b[0;34m(\u001b[0m\u001b[0mfp\u001b[0m\u001b[0;34m)\u001b[0m\u001b[0;34m:\u001b[0m\u001b[0;34m\u001b[0m\u001b[0;34m\u001b[0m\u001b[0m\n\u001b[1;32m    108\u001b[0m             \u001b[0;31m# filename\u001b[0m\u001b[0;34m\u001b[0m\u001b[0;34m\u001b[0m\u001b[0;34m\u001b[0m\u001b[0m\n\u001b[0;32m--> 109\u001b[0;31m             \u001b[0mself\u001b[0m\u001b[0;34m.\u001b[0m\u001b[0mfp\u001b[0m \u001b[0;34m=\u001b[0m \u001b[0mopen\u001b[0m\u001b[0;34m(\u001b[0m\u001b[0mfp\u001b[0m\u001b[0;34m,\u001b[0m \u001b[0;34m\"rb\"\u001b[0m\u001b[0;34m)\u001b[0m\u001b[0;34m\u001b[0m\u001b[0;34m\u001b[0m\u001b[0m\n\u001b[0m\u001b[1;32m    110\u001b[0m             \u001b[0mself\u001b[0m\u001b[0;34m.\u001b[0m\u001b[0mfilename\u001b[0m \u001b[0;34m=\u001b[0m \u001b[0mfp\u001b[0m\u001b[0;34m\u001b[0m\u001b[0;34m\u001b[0m\u001b[0m\n\u001b[1;32m    111\u001b[0m             \u001b[0mself\u001b[0m\u001b[0;34m.\u001b[0m\u001b[0m_exclusive_fp\u001b[0m \u001b[0;34m=\u001b[0m \u001b[0;32mTrue\u001b[0m\u001b[0;34m\u001b[0m\u001b[0;34m\u001b[0m\u001b[0m\n",
      "\u001b[0;31mFileNotFoundError\u001b[0m: [Errno 2] No such file or directory: 'little_vgg_cnn_model.png'"
     ]
    }
   ],
   "source": [
    "\n",
    "#generate the plot\n",
    "\n",
    "plot_model(model,to_file = \"little_vgg_cnn_model.png\",\n",
    "           show_shapes = True,\n",
    "           show_layer_names = True)\n",
    "\n",
    "img = mpimg.imread(\"little_vgg_cnn_model.png\")\n",
    "plt.figure(figsize = (30,15))\n",
    "imgplot = plt.imshow(img)\n",
    "print(imgplot)"
   ]
  },
  {
   "cell_type": "markdown",
   "id": "88db3734",
   "metadata": {},
   "source": [
    "# Training Little VGG model"
   ]
  },
  {
   "cell_type": "code",
   "execution_count": 26,
   "id": "cc282811",
   "metadata": {},
   "outputs": [
    {
     "name": "stderr",
     "output_type": "stream",
     "text": [
      "/home/robin/anaconda3/envs/robin/lib/python3.7/site-packages/tensorflow/python/keras/engine/training.py:1940: UserWarning: `Model.fit_generator` is deprecated and will be removed in a future version. Please use `Model.fit`, which supports generators.\n",
      "  warnings.warn('`Model.fit_generator` is deprecated and '\n",
      "2021-09-28 03:09:40.999048: I tensorflow/compiler/mlir/mlir_graph_optimization_pass.cc:176] None of the MLIR Optimization Passes are enabled (registered 2)\n",
      "2021-09-28 03:09:41.064927: I tensorflow/core/platform/profile_utils/cpu_utils.cc:114] CPU Frequency: 2194805000 Hz\n"
     ]
    },
    {
     "name": "stdout",
     "output_type": "stream",
     "text": [
      "Epoch 1/10\n",
      "  1/305 [..............................] - ETA: 25:06 - loss: 4.6470 - accuracy: 0.0000e+00"
     ]
    },
    {
     "name": "stderr",
     "output_type": "stream",
     "text": [
      "2021-09-28 03:09:46.098176: W tensorflow/core/framework/cpu_allocator_impl.cc:80] Allocation of 20054016 exceeds 10% of free system memory.\n",
      "2021-09-28 03:09:46.149479: W tensorflow/core/framework/cpu_allocator_impl.cc:80] Allocation of 18284544 exceeds 10% of free system memory.\n",
      "2021-09-28 03:09:46.149619: W tensorflow/core/framework/cpu_allocator_impl.cc:80] Allocation of 18284544 exceeds 10% of free system memory.\n",
      "2021-09-28 03:09:46.179452: W tensorflow/core/framework/cpu_allocator_impl.cc:80] Allocation of 28311552 exceeds 10% of free system memory.\n"
     ]
    },
    {
     "name": "stdout",
     "output_type": "stream",
     "text": [
      "\b\b\b\b\b\b\b\b\b\b\b\b\b\b\b\b\b\b\b\b\b\b\b\b\b\b\b\b\b\b\b\b\b\b\b\b\b\b\b\b\b\b\b\b\b\b\b\b\b\b\b\b\b\b\b\b\b\b\b\b\b\b\b\b\b\b\b\b\b\b\b\b\b\b\b\b\b\b\b\b\b\b\b\b\b\b\b\b\b\b\b\r",
      "  2/305 [..............................] - ETA: 1:50 - loss: 4.9097 - accuracy: 0.0000e+00 "
     ]
    },
    {
     "name": "stderr",
     "output_type": "stream",
     "text": [
      "2021-09-28 03:09:46.496060: W tensorflow/core/framework/cpu_allocator_impl.cc:80] Allocation of 20054016 exceeds 10% of free system memory.\n"
     ]
    },
    {
     "name": "stdout",
     "output_type": "stream",
     "text": [
      "305/305 [==============================] - 120s 380ms/step - loss: 3.3190 - accuracy: 0.1277 - val_loss: 3.0672 - val_accuracy: 0.1167\n",
      "\n",
      "Epoch 00001: val_loss improved from inf to 3.06718, saving model to simpsons_little_vgg.h5\n",
      "Epoch 2/10\n",
      "305/305 [==============================] - 115s 377ms/step - loss: 2.6299 - accuracy: 0.2018 - val_loss: 2.7742 - val_accuracy: 0.1958\n",
      "\n",
      "Epoch 00002: val_loss improved from 3.06718 to 2.77420, saving model to simpsons_little_vgg.h5\n",
      "Epoch 3/10\n",
      "305/305 [==============================] - 108s 352ms/step - loss: 2.4482 - accuracy: 0.2543 - val_loss: 2.4708 - val_accuracy: 0.2042\n",
      "\n",
      "Epoch 00003: val_loss improved from 2.77420 to 2.47079, saving model to simpsons_little_vgg.h5\n",
      "Epoch 4/10\n",
      "305/305 [==============================] - 106s 346ms/step - loss: 2.3396 - accuracy: 0.2910 - val_loss: 2.4017 - val_accuracy: 0.2875\n",
      "\n",
      "Epoch 00004: val_loss improved from 2.47079 to 2.40166, saving model to simpsons_little_vgg.h5\n",
      "Epoch 5/10\n",
      "305/305 [==============================] - 108s 353ms/step - loss: 2.3250 - accuracy: 0.2822 - val_loss: 2.7532 - val_accuracy: 0.2250\n",
      "\n",
      "Epoch 00005: val_loss did not improve from 2.40166\n",
      "Epoch 6/10\n",
      "305/305 [==============================] - 106s 349ms/step - loss: 2.1056 - accuracy: 0.3501 - val_loss: 2.0983 - val_accuracy: 0.3250\n",
      "\n",
      "Epoch 00006: val_loss improved from 2.40166 to 2.09831, saving model to simpsons_little_vgg.h5\n",
      "Epoch 7/10\n",
      "305/305 [==============================] - 105s 345ms/step - loss: 2.0706 - accuracy: 0.3617 - val_loss: 2.1109 - val_accuracy: 0.3917\n",
      "\n",
      "Epoch 00007: val_loss did not improve from 2.09831\n",
      "Epoch 8/10\n",
      "305/305 [==============================] - 106s 345ms/step - loss: 1.9656 - accuracy: 0.3964 - val_loss: 2.0570 - val_accuracy: 0.4167\n",
      "\n",
      "Epoch 00008: val_loss improved from 2.09831 to 2.05704, saving model to simpsons_little_vgg.h5\n",
      "Epoch 9/10\n",
      "305/305 [==============================] - 111s 363ms/step - loss: 1.8955 - accuracy: 0.4199 - val_loss: 1.9609 - val_accuracy: 0.4333\n",
      "\n",
      "Epoch 00009: val_loss improved from 2.05704 to 1.96089, saving model to simpsons_little_vgg.h5\n",
      "Epoch 10/10\n",
      "305/305 [==============================] - 108s 354ms/step - loss: 1.7512 - accuracy: 0.4734 - val_loss: 1.5359 - val_accuracy: 0.5333\n",
      "\n",
      "Epoch 00010: val_loss improved from 1.96089 to 1.53593, saving model to simpsons_little_vgg.h5\n"
     ]
    }
   ],
   "source": [
    "from tensorflow.keras.optimizers import RMSprop, SGD, Adam\n",
    "from tensorflow.keras.callbacks import ModelCheckpoint, EarlyStopping, ReduceLROnPlateau\n",
    "\n",
    "\n",
    "checkpoint = ModelCheckpoint(\"simpsons_little_vgg.h5\",\n",
    "                             monitor = \"val_loss\",\n",
    "                             mode = \"min\",\n",
    "                             save_best_only = True,\n",
    "                             verbose = 1)\n",
    "\n",
    "earlystop = EarlyStopping(monitor = \"val_loss\",\n",
    "                          min_delta = 0,\n",
    "                          patience = 3,\n",
    "                          verbose = 1,\n",
    "                          restore_best_weights = True)\n",
    "\n",
    "reduce_lr = ReduceLROnPlateau(monitor = \"val_loss\",\n",
    "                              factor = 0.2,\n",
    "                              patience = 3,\n",
    "                              verbose = 1,\n",
    "                              min_delta = 0.00001)\n",
    "\n",
    "callbacks = [checkpoint, earlystop, reduce_lr]\n",
    "\n",
    "\n",
    "model.compile(loss = \"categorical_crossentropy\",\n",
    "              optimizer = Adam(lr = 0.01),\n",
    "              metrics = [\"accuracy\"])\n",
    "\n",
    "\n",
    "nb_train_samples = 19548\n",
    "nb_val_samples = 990\n",
    "epochs = 10\n",
    "batch_size = 64\n",
    "\n",
    "history = model.fit_generator(train_generator,\n",
    "                              steps_per_epoch = nb_train_samples//batch_size,\n",
    "                              epochs = epochs,\n",
    "                              callbacks = callbacks,\n",
    "                              validation_data = validation_generator,\n",
    "                              validation_steps = nb_val_samples//batch_size)"
   ]
  },
  {
   "cell_type": "markdown",
   "id": "fb1ccf53",
   "metadata": {},
   "source": [
    "# Performance Analysis"
   ]
  },
  {
   "cell_type": "code",
   "execution_count": 27,
   "id": "8278307f",
   "metadata": {},
   "outputs": [
    {
     "data": {
      "image/png": "[encoded data removed]",
      "text/plain": [
       "<Figure size 432x288 with 1 Axes>"
      ]
     },
     "metadata": {
      "needs_background": "light"
     },
     "output_type": "display_data"
    }
   ],
   "source": [
    "##plotting the loss Chart\n",
    "\n",
    "import matplotlib.pyplot as plt\n",
    "import numpy as np\n",
    "\n",
    "history_dict = history.history\n",
    "\n",
    "loss_values = history_dict[\"loss\"]\n",
    "val_loss_values = history_dict[\"val_loss\"]\n",
    "\n",
    "epochs = range(1, len(loss_values)+1)\n",
    "\n",
    "line1 = plt.plot(epochs, loss_values, label = \"Training loss\")\n",
    "line2 = plt.plot(epochs, val_loss_values, label = \"Test loss\")\n",
    "\n",
    "plt.setp(line1, linewidth = 2.0, marker = \"o\", markersize = 10.0)\n",
    "plt.setp(line2, linewidth = 2.0, marker = \"*\", markersize = 10.0)\n",
    "plt.xlabel(\"Epochs\")\n",
    "plt.ylabel(\"Loss\")\n",
    "plt.grid(\"True\")\n",
    "plt.legend()\n",
    "plt.show()"
   ]
  },
  {
   "cell_type": "code",
   "execution_count": 28,
   "id": "61c871a5",
   "metadata": {},
   "outputs": [
    {
     "data": {
      "image/png": "[encoded data removed]",
      "text/plain": [
       "<Figure size 432x288 with 1 Axes>"
      ]
     },
     "metadata": {
      "needs_background": "light"
     },
     "output_type": "display_data"
    }
   ],
   "source": [
    "#plotting Accuracy\n",
    "\n",
    "acc_values = history_dict[\"accuracy\"]\n",
    "val_acc_values = history_dict[\"val_accuracy\"]\n",
    "\n",
    "epochs = range(1,len(acc_values)+1)\n",
    "\n",
    "line1 = plt.plot(epochs, acc_values, label = \"Training Accuracy\")\n",
    "line2 = plt.plot(epochs, val_acc_values, label = \"Testing Accuracy\")\n",
    "\n",
    "plt.setp(line1, linewidth = 2, marker = \"*\", markersize = 10)\n",
    "plt.setp(line2, linewidth = 2, marker = \"o\", markersize = 10)\n",
    "plt.title(\"Accuracy\",fontsize = 18)\n",
    "plt.xlabel(\"Epochs\")\n",
    "plt.ylabel(\"Accuracy\")\n",
    "plt.grid(True)\n",
    "plt.legend()\n",
    "plt.show()"
   ]
  },
  {
   "cell_type": "code",
   "execution_count": 33,
   "id": "e874ce82",
   "metadata": {},
   "outputs": [
    {
     "name": "stdout",
     "output_type": "stream",
     "text": [
      "Found 990 images belonging to 20 classes.\n",
      "Confusion Matrix\n",
      "[[34  1  0  1  0  0  0  3  1  0  0  0  1  0  0  1  1  0  1  4]\n",
      " [ 0 46  0  0  0  0  0  0  0  1  0  0  0  0  0  0  0  0  0  3]\n",
      " [ 0  1  6  1  0  0  0  4  5  0  0 22  2  0  0  1  1  0  4  3]\n",
      " [ 0  0  0 18  3  0  0  1  4  1  0  2  3  0  1  1  0  0  2 12]\n",
      " [ 0  0  0  1 38  0  0  0  3  1  0  0  1  0  0  0  0  0  6  0]\n",
      " [ 4  2  2  1  6  1  3  1  4  3  0  0  2  0  0  3  0  0 13  4]\n",
      " [ 1  5  0  0  0  0 31  0  1  0  0  1  2  0  0  0  1  0  0  8]\n",
      " [10  0  0  1  0  0  7 19  4  1  0  0  2  0  0  0  3  0  0  3]\n",
      " [ 0  1  0  0  1  0  0  0 46  0  0  0  1  0  0  0  0  0  0  1]\n",
      " [ 0  2  0  0  0  0  0  0  3 45  0  0  0  0  0  0  0  0  0  0]\n",
      " [ 2  3  2  2  0  0  9  1  1  0  0  1  1  0  0  0  7  0  2 19]\n",
      " [ 4  0  5  0  0  0  1  2  8  1  0 27  0  0  0  0  0  0  1  1]\n",
      " [ 0  3  0  0  0  0  0  1  0  0  0  0 45  0  0  0  0  0  0  1]\n",
      " [ 1  1  0  1  0  0  3  1  2  0  0  0  0  1  0  1  0  0 13 26]\n",
      " [ 0  4  0  2  0  0  1  0  4  1  0  0 17  0 18  1  0  0  1  0]\n",
      " [ 0  3  0  2  2  0  2  2  6  0  0  0  2  0  0 17  0  0  5  9]\n",
      " [ 0  1  0  0  1  0  6  0  2  2  0  2  1  0  0  0 32  0  0  2]\n",
      " [ 0  0  1  0  1  0 17  2  3  0  0  1  1  0  0  1  0  0  9 14]\n",
      " [ 0  0  0  0  1  0  2  0  5  1  0  0  1  0  0  0  0  0 30 10]\n",
      " [ 0  5  0  0  0  0  0  0  0  0  0  0  0  0  0  0  0  0  0 42]]\n",
      "\n",
      "Classification Report\n",
      "                          precision    recall  f1-score   support\n",
      "\n",
      "  abraham_grampa_simpson       0.61      0.71      0.65        48\n",
      "  apu_nahasapeemapetilon       0.59      0.92      0.72        50\n",
      "            bart_simpson       0.38      0.12      0.18        50\n",
      "charles_montgomery_burns       0.60      0.38      0.46        48\n",
      "            chief_wiggum       0.72      0.76      0.74        50\n",
      "          comic_book_guy       1.00      0.02      0.04        49\n",
      "          edna_krabappel       0.38      0.62      0.47        50\n",
      "           homer_simpson       0.51      0.38      0.44        50\n",
      "           kent_brockman       0.45      0.92      0.61        50\n",
      "        krusty_the_clown       0.79      0.90      0.84        50\n",
      "           lenny_leonard       0.00      0.00      0.00        50\n",
      "            lisa_simpson       0.48      0.54      0.51        50\n",
      "           marge_simpson       0.55      0.90      0.68        50\n",
      "            mayor_quimby       1.00      0.02      0.04        50\n",
      "     milhouse_van_houten       0.95      0.37      0.53        49\n",
      "             moe_szyslak       0.65      0.34      0.45        50\n",
      "            ned_flanders       0.71      0.65      0.68        49\n",
      "            nelson_muntz       0.00      0.00      0.00        50\n",
      "       principal_skinner       0.34      0.60      0.44        50\n",
      "            sideshow_bob       0.26      0.89      0.40        47\n",
      "\n",
      "                accuracy                           0.50       990\n",
      "               macro avg       0.55      0.50      0.44       990\n",
      "            weighted avg       0.55      0.50      0.44       990\n",
      "\n"
     ]
    }
   ],
   "source": [
    "import warnings\n",
    "warnings.filterwarnings(\"ignore\")\n",
    "import matplotlib.pyplot as plt\n",
    "from sklearn.metrics import classification_report, confusion_matrix\n",
    "\n",
    "batch_size = 16\n",
    "\n",
    "#recreating validation generator with shuffle = False\n",
    "validation_generator = validation_datagen.flow_from_directory(val_data_dir,\n",
    "                                                              target_size = (32,32),\n",
    "                                                              batch_size = batch_size,\n",
    "                                                              class_mode = \"categorical\",\n",
    "                                                              shuffle = False)\n",
    "\n",
    "class_labels = validation_generator.class_indices\n",
    "class_labels = {v: k for k,v in class_labels.items()}\n",
    "classes = list(class_labels.values())\n",
    "\n",
    "nb_train_samples = 19548\n",
    "nb_val_samples = 990\n",
    "\n",
    "\n",
    "#confusion matrix and classification_report\n",
    "\n",
    "y_pred = model.predict_generator(validation_generator, nb_val_samples//batch_size+1)\n",
    "Y_pred = np.argmax(y_pred, axis = 1)\n",
    "\n",
    "print(\"Confusion Matrix\")\n",
    "print(confusion_matrix(validation_generator.classes, Y_pred))\n",
    "print(\"\")\n",
    "print(\"Classification Report\")\n",
    "target_names = list(class_labels.values())\n",
    "print(classification_report(validation_generator.classes, Y_pred, target_names = target_names))\n"
   ]
  },
  {
   "cell_type": "code",
   "execution_count": 35,
   "id": "6a7f4c8a",
   "metadata": {},
   "outputs": [
    {
     "data": {
      "image/png": "[encoded data removed]",
      "text/plain": [
       "<Figure size 1080x720 with 1 Axes>"
      ]
     },
     "metadata": {
      "needs_background": "light"
     },
     "output_type": "display_data"
    }
   ],
   "source": [
    "#visualize confusion matrix\n",
    "\n",
    "import seaborn as sns\n",
    "\n",
    "cnf_mat = confusion_matrix(validation_generator.classes, Y_pred)\n",
    "\n",
    "fig,ax = plt.subplots(figsize = (15,10))\n",
    "ax = sns.heatmap(cnf_mat,\n",
    "                 annot = True,\n",
    "                 cbar = False)\n"
   ]
  },
  {
   "cell_type": "markdown",
   "id": "051f9ad1",
   "metadata": {},
   "source": [
    "# Reload the Saved Classifier"
   ]
  },
  {
   "cell_type": "code",
   "execution_count": 2,
   "id": "d12e3caf",
   "metadata": {},
   "outputs": [],
   "source": [
    "# Loading the Model\n",
    "\n",
    "from tensorflow.keras.models import load_model\n",
    "\n",
    "classifier = load_model(\"simpsons_little_vgg.h5\")"
   ]
  },
  {
   "cell_type": "markdown",
   "id": "2820c552",
   "metadata": {},
   "source": [
    "# Testing the Classifier"
   ]
  },
  {
   "cell_type": "code",
   "execution_count": 10,
   "id": "4f98709e",
   "metadata": {},
   "outputs": [
    {
     "name": "stdout",
     "output_type": "stream",
     "text": [
      "Found 990 images belonging to 20 classes.\n"
     ]
    }
   ],
   "source": [
    "#recreating validation generator with shuffle = False\n",
    "val_data_dir = \"./Classifier/simpsons/validation\"\n",
    "validation_datagen = ImageDataGenerator(rescale = 1./255)\n",
    "\n",
    "validation_generator = validation_datagen.flow_from_directory(val_data_dir,\n",
    "                                                              target_size = (32,32),\n",
    "                                                              batch_size = 16,\n",
    "                                                              class_mode = \"categorical\",\n",
    "                                                              shuffle = False)\n",
    "\n",
    "class_labels = validation_generator.class_indices\n",
    "class_labels = {v: k for k,v in class_labels.items()}"
   ]
  },
  {
   "cell_type": "code",
   "execution_count": 11,
   "id": "6c9a9804",
   "metadata": {},
   "outputs": [
    {
     "data": {
      "text/plain": [
       "{0: 'abraham_grampa_simpson',\n",
       " 1: 'apu_nahasapeemapetilon',\n",
       " 2: 'bart_simpson',\n",
       " 3: 'charles_montgomery_burns',\n",
       " 4: 'chief_wiggum',\n",
       " 5: 'comic_book_guy',\n",
       " 6: 'edna_krabappel',\n",
       " 7: 'homer_simpson',\n",
       " 8: 'kent_brockman',\n",
       " 9: 'krusty_the_clown',\n",
       " 10: 'lenny_leonard',\n",
       " 11: 'lisa_simpson',\n",
       " 12: 'marge_simpson',\n",
       " 13: 'mayor_quimby',\n",
       " 14: 'milhouse_van_houten',\n",
       " 15: 'moe_szyslak',\n",
       " 16: 'ned_flanders',\n",
       " 17: 'nelson_muntz',\n",
       " 18: 'principal_skinner',\n",
       " 19: 'sideshow_bob'}"
      ]
     },
     "execution_count": 11,
     "metadata": {},
     "output_type": "execute_result"
    }
   ],
   "source": [
    "class_labels"
   ]
  },
  {
   "cell_type": "code",
   "execution_count": 14,
   "id": "4dc514ec",
   "metadata": {},
   "outputs": [],
   "source": [
    "import os\n",
    "import cv2\n",
    "import re\n",
    "import numpy as np\n",
    "from tensorflow.keras.preprocessing import image\n",
    "from os import listdir\n",
    "from os.path import isfile, join\n",
    "import warnings\n",
    "warnings.filterwarnings(\"ignore\")\n",
    "\n",
    "def draw_test(name, pred, img, true_label):\n",
    "    BLACK = [0,0,0]\n",
    "    expanded_im = cv2.copyMakeBorder(img, 160, 0,0,300, cv2.BORDER_CONSTANT,value = BLACK)\n",
    "    cv2.putText(expanded_im, \"predicted - \"+pred,(20,60),cv2.FONT_HERSHEY_PLAIN,2,(0,0,255),2)\n",
    "    cv2.putText(expanded_im, \"True -\"+true_label,(20,120),cv2.FONT_HERSHEY_PLAIN,2,(0,0,255),2)\n",
    "    cv2.imshow(name, expanded_im)\n",
    "    \n",
    "    \n",
    "def getRandomImage(path, img_width,img_height):\n",
    "    \n",
    "    folders =  list(filter(lambda x: os.path.isdir(os.path.join(path, x)),os.listdir(path)))\n",
    "    ran_dir = np.random.randint(0, len(folders))\n",
    "    path_class = folders[ran_dir]\n",
    "    file_path = path + path_class\n",
    "    file_names = [f for f in listdir(file_path) if isfile(join(file_path, f))]\n",
    "    random_file_index = np.random.randint(0, len(file_names))\n",
    "    image_name = file_names[random_file_index]\n",
    "    final_path = file_path+\"/\"+image_name\n",
    "    \n",
    "    return image.load_img(final_path, target_size = (img_width, img_height)), final_path,path_class\n",
    "\n",
    "\n",
    "img_width, img_height = 32, 32\n",
    "\n",
    "files = []\n",
    "predictions = []\n",
    "true_labels = []\n",
    "\n",
    "\n",
    "#predicting image\n",
    "\n",
    "for i in range(0,10):\n",
    "    path = \"./Classifier/simpsons/validation/\"\n",
    "    img, final_path, true_label = getRandomImage(path, img_width, img_height)\n",
    "    files.append(final_path)\n",
    "    true_labels.append(true_label)\n",
    "    x = image.img_to_array(img)\n",
    "    x = x * 1./255\n",
    "    x = np.expand_dims(x , axis = 0)\n",
    "    images = np.vstack([x])\n",
    "    classes = classifier.predict_classes(images,batch_size = 10)\n",
    "    predictions.append(classes)\n",
    "    \n",
    "for i in range(0, len(files)):\n",
    "    image = cv2.imread((files[i]))\n",
    "    image = cv2.resize(image, None, fx = 5, fy = 5, interpolation = cv2.INTER_CUBIC)\n",
    "    draw_test(\"prediction\",class_labels[predictions[i][0]], image, true_labels[i])\n",
    "    cv2.waitKey(0)\n",
    "    \n",
    "cv2.destroyAllWindows()\n",
    "    "
   ]
  },
  {
   "cell_type": "code",
   "execution_count": null,
   "id": "4d25fc9b",
   "metadata": {},
   "outputs": [],
   "source": []
  }
 ],
 "metadata": {
  "kernelspec": {
   "display_name": "robin",
   "language": "python",
   "name": "robin"
  },
  "language_info": {
   "codemirror_mode": {
    "name": "ipython",
    "version": 3
   },
   "file_extension": ".py",
   "mimetype": "text/x-python",
   "name": "python",
   "nbconvert_exporter": "python",
   "pygments_lexer": "ipython3",
   "version": "3.7.11"
  }
 },
 "nbformat": 4,
 "nbformat_minor": 5
}
